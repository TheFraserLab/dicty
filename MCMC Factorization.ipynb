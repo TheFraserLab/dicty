{
 "cells": [
  {
   "cell_type": "markdown",
   "metadata": {},
   "source": [
    "MCMC Probabilistic Matrix Factorization\n",
    "=========\n",
    "\n",
    "Adapted very lightly from: https://stackoverflow.com/questions/29736966/bayesian-probabilistic-matrix-factorization-bpmf-with-pymc3-positivedefinitee\n",
    "\n",
    "Which is, itself, I believe based on \"Bayesian Probabilistic Matrix Factorization using Markov Chain Monte Carlo\", Ruslan Salakhutdinov and Andriy Mnih, in _Proceedings of the 25th International Conference on Machine Learning_, Helsinki, Finland, 2008.\n"
   ]
  },
  {
   "cell_type": "code",
   "execution_count": 1,
   "metadata": {
    "ExecuteTime": {
     "end_time": "2018-10-23T06:01:49.829861Z",
     "start_time": "2018-10-23T06:01:49.824639Z"
    }
   },
   "outputs": [],
   "source": [
    "import warnings\n",
    "warnings.filterwarnings('ignore', '.*ix is deprecated.*')"
   ]
  },
  {
   "cell_type": "code",
   "execution_count": 2,
   "metadata": {
    "ExecuteTime": {
     "end_time": "2018-10-23T06:01:59.798161Z",
     "start_time": "2018-10-23T06:01:50.678101Z"
    }
   },
   "outputs": [
    {
     "name": "stdout",
     "output_type": "stream",
     "text": [
      "(96, 10)\n",
      "(1000, 10)\n",
      "(1000, 96)\n",
      "1.5452627603422058e-17\n"
     ]
    }
   ],
   "source": [
    "import pymc3 as pm\n",
    "import numpy as np\n",
    "import pandas as pd\n",
    "import theano\n",
    "import scipy as sp\n",
    "from os import path\n",
    "\n",
    "DIR = 'test2'\n",
    "data = pd.read_table(path.join(DIR, 'sample_abundances.tsv'), index_col=0)\n",
    "strain_abunds = pd.read_table(path.join(DIR, 'strain_abundances.tsv'), index_col=0)\n",
    "strain_snps = pd.read_table(path.join(DIR, 'strain_genotypes.tsv'), index_col=0)\n",
    "n, m = data.shape\n",
    "print(strain_abunds.shape)\n",
    "print(strain_snps.shape)\n",
    "print(data.shape)\n",
    "print(np.abs(data - np.matmul(strain_snps, strain_abunds.T)).mean().mean())\n"
   ]
  },
  {
   "cell_type": "code",
   "execution_count": 26,
   "metadata": {
    "ExecuteTime": {
     "end_time": "2018-10-23T17:54:23.476632Z",
     "start_time": "2018-10-23T17:54:22.965968Z"
    }
   },
   "outputs": [
    {
     "name": "stdout",
     "output_type": "stream",
     "text": [
      "building the BPMF model\n"
     ]
    },
    {
     "ename": "ValueError",
     "evalue": "Input dimension mis-match. (input[0].shape[1] = 10, input[1].shape[1] = 96)",
     "output_type": "error",
     "traceback": [
      "\u001b[0;31m---------------------------------------------------------------------------\u001b[0m",
      "\u001b[0;31mValueError\u001b[0m                                Traceback (most recent call last)",
      "\u001b[0;32m<ipython-input-26-66c0d41a310e>\u001b[0m in \u001b[0;36m<module>\u001b[0;34m()\u001b[0m\n\u001b[1;32m     31\u001b[0m \u001b[0;34m\u001b[0m\u001b[0m\n\u001b[1;32m     32\u001b[0m     V = BoundedMvNormal(\n\u001b[0;32m---> 33\u001b[0;31m         \u001b[0;34m'V'\u001b[0m\u001b[0;34m,\u001b[0m \u001b[0mmu\u001b[0m\u001b[0;34m=\u001b[0m\u001b[0mmu_v\u001b[0m\u001b[0;34m,\u001b[0m \u001b[0mtau\u001b[0m\u001b[0;34m=\u001b[0m\u001b[0;36m.5\u001b[0m\u001b[0;34m*\u001b[0m\u001b[0mnp\u001b[0m\u001b[0;34m.\u001b[0m\u001b[0meye\u001b[0m\u001b[0;34m(\u001b[0m\u001b[0mdim\u001b[0m\u001b[0;34m)\u001b[0m\u001b[0;34m,\u001b[0m \u001b[0mshape\u001b[0m\u001b[0;34m=\u001b[0m\u001b[0;34m(\u001b[0m\u001b[0mm\u001b[0m\u001b[0;34m,\u001b[0m \u001b[0mdim\u001b[0m\u001b[0;34m)\u001b[0m\u001b[0;34m,\u001b[0m\u001b[0;34m\u001b[0m\u001b[0m\n\u001b[0m\u001b[1;32m     34\u001b[0m \u001b[0;31m#        testval=np.random.randn(m, dim) * std + 1000\u001b[0m\u001b[0;34m\u001b[0m\u001b[0;34m\u001b[0m\u001b[0m\n\u001b[1;32m     35\u001b[0m     )\n",
      "\u001b[0;32m~/.local/lib/python3.6/site-packages/pymc3/distributions/bound.py\u001b[0m in \u001b[0;36m__call__\u001b[0;34m(self, *args, **kwargs)\u001b[0m\n\u001b[1;32m    213\u001b[0m         \u001b[0;32mif\u001b[0m \u001b[0missubclass\u001b[0m\u001b[0;34m(\u001b[0m\u001b[0mself\u001b[0m\u001b[0;34m.\u001b[0m\u001b[0mdistribution\u001b[0m\u001b[0;34m,\u001b[0m \u001b[0mContinuous\u001b[0m\u001b[0;34m)\u001b[0m\u001b[0;34m:\u001b[0m\u001b[0;34m\u001b[0m\u001b[0m\n\u001b[1;32m    214\u001b[0m             return _ContinuousBounded(first, self.distribution,\n\u001b[0;32m--> 215\u001b[0;31m                                       self.lower, self.upper, *args, **kwargs)\n\u001b[0m\u001b[1;32m    216\u001b[0m         \u001b[0;32melif\u001b[0m \u001b[0missubclass\u001b[0m\u001b[0;34m(\u001b[0m\u001b[0mself\u001b[0m\u001b[0;34m.\u001b[0m\u001b[0mdistribution\u001b[0m\u001b[0;34m,\u001b[0m \u001b[0mDiscrete\u001b[0m\u001b[0;34m)\u001b[0m\u001b[0;34m:\u001b[0m\u001b[0;34m\u001b[0m\u001b[0m\n\u001b[1;32m    217\u001b[0m             return _DiscreteBounded(first, self.distribution,\n",
      "\u001b[0;32m~/.local/lib/python3.6/site-packages/pymc3/distributions/distribution.py\u001b[0m in \u001b[0;36m__new__\u001b[0;34m(cls, name, *args, **kwargs)\u001b[0m\n\u001b[1;32m     40\u001b[0m             \u001b[0mtotal_size\u001b[0m \u001b[0;34m=\u001b[0m \u001b[0mkwargs\u001b[0m\u001b[0;34m.\u001b[0m\u001b[0mpop\u001b[0m\u001b[0;34m(\u001b[0m\u001b[0;34m'total_size'\u001b[0m\u001b[0;34m,\u001b[0m \u001b[0;32mNone\u001b[0m\u001b[0;34m)\u001b[0m\u001b[0;34m\u001b[0m\u001b[0m\n\u001b[1;32m     41\u001b[0m             \u001b[0mdist\u001b[0m \u001b[0;34m=\u001b[0m \u001b[0mcls\u001b[0m\u001b[0;34m.\u001b[0m\u001b[0mdist\u001b[0m\u001b[0;34m(\u001b[0m\u001b[0;34m*\u001b[0m\u001b[0margs\u001b[0m\u001b[0;34m,\u001b[0m \u001b[0;34m**\u001b[0m\u001b[0mkwargs\u001b[0m\u001b[0;34m)\u001b[0m\u001b[0;34m\u001b[0m\u001b[0m\n\u001b[0;32m---> 42\u001b[0;31m             \u001b[0;32mreturn\u001b[0m \u001b[0mmodel\u001b[0m\u001b[0;34m.\u001b[0m\u001b[0mVar\u001b[0m\u001b[0;34m(\u001b[0m\u001b[0mname\u001b[0m\u001b[0;34m,\u001b[0m \u001b[0mdist\u001b[0m\u001b[0;34m,\u001b[0m \u001b[0mdata\u001b[0m\u001b[0;34m,\u001b[0m \u001b[0mtotal_size\u001b[0m\u001b[0;34m)\u001b[0m\u001b[0;34m\u001b[0m\u001b[0m\n\u001b[0m\u001b[1;32m     43\u001b[0m         \u001b[0;32melse\u001b[0m\u001b[0;34m:\u001b[0m\u001b[0;34m\u001b[0m\u001b[0m\n\u001b[1;32m     44\u001b[0m             \u001b[0;32mraise\u001b[0m \u001b[0mTypeError\u001b[0m\u001b[0;34m(\u001b[0m\u001b[0;34m\"Name needs to be a string but got: {}\"\u001b[0m\u001b[0;34m.\u001b[0m\u001b[0mformat\u001b[0m\u001b[0;34m(\u001b[0m\u001b[0mname\u001b[0m\u001b[0;34m)\u001b[0m\u001b[0;34m)\u001b[0m\u001b[0;34m\u001b[0m\u001b[0m\n",
      "\u001b[0;32m~/.local/lib/python3.6/site-packages/pymc3/model.py\u001b[0m in \u001b[0;36mVar\u001b[0;34m(self, name, dist, data, total_size)\u001b[0m\n\u001b[1;32m    813\u001b[0m                                         \u001b[0mtransform\u001b[0m\u001b[0;34m=\u001b[0m\u001b[0mdist\u001b[0m\u001b[0;34m.\u001b[0m\u001b[0mtransform\u001b[0m\u001b[0;34m,\u001b[0m\u001b[0;34m\u001b[0m\u001b[0m\n\u001b[1;32m    814\u001b[0m                                         \u001b[0mtotal_size\u001b[0m\u001b[0;34m=\u001b[0m\u001b[0mtotal_size\u001b[0m\u001b[0;34m,\u001b[0m\u001b[0;34m\u001b[0m\u001b[0m\n\u001b[0;32m--> 815\u001b[0;31m                                         model=self)\n\u001b[0m\u001b[1;32m    816\u001b[0m                 pm._log.debug('Applied {transform}-transform to {name}'\n\u001b[1;32m    817\u001b[0m                               ' and added transformed {orig_name} to model.'.format(\n",
      "\u001b[0;32m~/.local/lib/python3.6/site-packages/pymc3/model.py\u001b[0m in \u001b[0;36m__init__\u001b[0;34m(self, type, owner, index, name, distribution, model, transform, total_size)\u001b[0m\n\u001b[1;32m   1475\u001b[0m \u001b[0;34m\u001b[0m\u001b[0m\n\u001b[1;32m   1476\u001b[0m             self.transformed = model.Var(\n\u001b[0;32m-> 1477\u001b[0;31m                 transformed_name, transform.apply(distribution), total_size=total_size)\n\u001b[0m\u001b[1;32m   1478\u001b[0m \u001b[0;34m\u001b[0m\u001b[0m\n\u001b[1;32m   1479\u001b[0m             \u001b[0mnormalRV\u001b[0m \u001b[0;34m=\u001b[0m \u001b[0mtransform\u001b[0m\u001b[0;34m.\u001b[0m\u001b[0mbackward\u001b[0m\u001b[0;34m(\u001b[0m\u001b[0mself\u001b[0m\u001b[0;34m.\u001b[0m\u001b[0mtransformed\u001b[0m\u001b[0;34m)\u001b[0m\u001b[0;34m\u001b[0m\u001b[0m\n",
      "\u001b[0;32m~/.local/lib/python3.6/site-packages/pymc3/distributions/transforms.py\u001b[0m in \u001b[0;36mapply\u001b[0;34m(self, dist)\u001b[0m\n\u001b[1;32m     38\u001b[0m     \u001b[0;32mdef\u001b[0m \u001b[0mapply\u001b[0m\u001b[0;34m(\u001b[0m\u001b[0mself\u001b[0m\u001b[0;34m,\u001b[0m \u001b[0mdist\u001b[0m\u001b[0;34m)\u001b[0m\u001b[0;34m:\u001b[0m\u001b[0;34m\u001b[0m\u001b[0m\n\u001b[1;32m     39\u001b[0m         \u001b[0;31m# avoid circular import\u001b[0m\u001b[0;34m\u001b[0m\u001b[0;34m\u001b[0m\u001b[0m\n\u001b[0;32m---> 40\u001b[0;31m         \u001b[0;32mreturn\u001b[0m \u001b[0mTransformedDistribution\u001b[0m\u001b[0;34m.\u001b[0m\u001b[0mdist\u001b[0m\u001b[0;34m(\u001b[0m\u001b[0mdist\u001b[0m\u001b[0;34m,\u001b[0m \u001b[0mself\u001b[0m\u001b[0;34m)\u001b[0m\u001b[0;34m\u001b[0m\u001b[0m\n\u001b[0m\u001b[1;32m     41\u001b[0m \u001b[0;34m\u001b[0m\u001b[0m\n\u001b[1;32m     42\u001b[0m     \u001b[0;32mdef\u001b[0m \u001b[0m__str__\u001b[0m\u001b[0;34m(\u001b[0m\u001b[0mself\u001b[0m\u001b[0;34m)\u001b[0m\u001b[0;34m:\u001b[0m\u001b[0;34m\u001b[0m\u001b[0m\n",
      "\u001b[0;32m~/.local/lib/python3.6/site-packages/pymc3/distributions/distribution.py\u001b[0m in \u001b[0;36mdist\u001b[0;34m(cls, *args, **kwargs)\u001b[0m\n\u001b[1;32m     50\u001b[0m     \u001b[0;32mdef\u001b[0m \u001b[0mdist\u001b[0m\u001b[0;34m(\u001b[0m\u001b[0mcls\u001b[0m\u001b[0;34m,\u001b[0m \u001b[0;34m*\u001b[0m\u001b[0margs\u001b[0m\u001b[0;34m,\u001b[0m \u001b[0;34m**\u001b[0m\u001b[0mkwargs\u001b[0m\u001b[0;34m)\u001b[0m\u001b[0;34m:\u001b[0m\u001b[0;34m\u001b[0m\u001b[0m\n\u001b[1;32m     51\u001b[0m         \u001b[0mdist\u001b[0m \u001b[0;34m=\u001b[0m \u001b[0mobject\u001b[0m\u001b[0;34m.\u001b[0m\u001b[0m__new__\u001b[0m\u001b[0;34m(\u001b[0m\u001b[0mcls\u001b[0m\u001b[0;34m)\u001b[0m\u001b[0;34m\u001b[0m\u001b[0m\n\u001b[0;32m---> 52\u001b[0;31m         \u001b[0mdist\u001b[0m\u001b[0;34m.\u001b[0m\u001b[0m__init__\u001b[0m\u001b[0;34m(\u001b[0m\u001b[0;34m*\u001b[0m\u001b[0margs\u001b[0m\u001b[0;34m,\u001b[0m \u001b[0;34m**\u001b[0m\u001b[0mkwargs\u001b[0m\u001b[0;34m)\u001b[0m\u001b[0;34m\u001b[0m\u001b[0m\n\u001b[0m\u001b[1;32m     53\u001b[0m         \u001b[0;32mreturn\u001b[0m \u001b[0mdist\u001b[0m\u001b[0;34m\u001b[0m\u001b[0m\n\u001b[1;32m     54\u001b[0m \u001b[0;34m\u001b[0m\u001b[0m\n",
      "\u001b[0;32m~/.local/lib/python3.6/site-packages/pymc3/distributions/transforms.py\u001b[0m in \u001b[0;36m__init__\u001b[0;34m(self, dist, transform, *args, **kwargs)\u001b[0m\n\u001b[1;32m     68\u001b[0m         \u001b[0mself\u001b[0m\u001b[0;34m.\u001b[0m\u001b[0mdist\u001b[0m \u001b[0;34m=\u001b[0m \u001b[0mdist\u001b[0m\u001b[0;34m\u001b[0m\u001b[0m\n\u001b[1;32m     69\u001b[0m         \u001b[0mself\u001b[0m\u001b[0;34m.\u001b[0m\u001b[0mtransform_used\u001b[0m \u001b[0;34m=\u001b[0m \u001b[0mtransform\u001b[0m\u001b[0;34m\u001b[0m\u001b[0m\n\u001b[0;32m---> 70\u001b[0;31m         \u001b[0mv\u001b[0m \u001b[0;34m=\u001b[0m \u001b[0mforward\u001b[0m\u001b[0;34m(\u001b[0m\u001b[0mFreeRV\u001b[0m\u001b[0;34m(\u001b[0m\u001b[0mname\u001b[0m\u001b[0;34m=\u001b[0m\u001b[0;34m'v'\u001b[0m\u001b[0;34m,\u001b[0m \u001b[0mdistribution\u001b[0m\u001b[0;34m=\u001b[0m\u001b[0mdist\u001b[0m\u001b[0;34m)\u001b[0m\u001b[0;34m)\u001b[0m\u001b[0;34m\u001b[0m\u001b[0m\n\u001b[0m\u001b[1;32m     71\u001b[0m         \u001b[0mself\u001b[0m\u001b[0;34m.\u001b[0m\u001b[0mtype\u001b[0m \u001b[0;34m=\u001b[0m \u001b[0mv\u001b[0m\u001b[0;34m.\u001b[0m\u001b[0mtype\u001b[0m\u001b[0;34m\u001b[0m\u001b[0m\n\u001b[1;32m     72\u001b[0m \u001b[0;34m\u001b[0m\u001b[0m\n",
      "\u001b[0;32m~/.local/lib/python3.6/site-packages/pymc3/model.py\u001b[0m in \u001b[0;36m__init__\u001b[0;34m(self, type, owner, index, name, distribution, total_size, model)\u001b[0m\n\u001b[1;32m   1206\u001b[0m             self.tag.test_value = np.ones(\n\u001b[1;32m   1207\u001b[0m                 distribution.shape, distribution.dtype) * distribution.default()\n\u001b[0;32m-> 1208\u001b[0;31m             \u001b[0mself\u001b[0m\u001b[0;34m.\u001b[0m\u001b[0mlogp_elemwiset\u001b[0m \u001b[0;34m=\u001b[0m \u001b[0mdistribution\u001b[0m\u001b[0;34m.\u001b[0m\u001b[0mlogp\u001b[0m\u001b[0;34m(\u001b[0m\u001b[0mself\u001b[0m\u001b[0;34m)\u001b[0m\u001b[0;34m\u001b[0m\u001b[0m\n\u001b[0m\u001b[1;32m   1209\u001b[0m             \u001b[0;31m# The logp might need scaling in minibatches.\u001b[0m\u001b[0;34m\u001b[0m\u001b[0;34m\u001b[0m\u001b[0m\n\u001b[1;32m   1210\u001b[0m             \u001b[0;31m# This is done in `Factor`.\u001b[0m\u001b[0;34m\u001b[0m\u001b[0;34m\u001b[0m\u001b[0m\n",
      "\u001b[0;32m~/.local/lib/python3.6/site-packages/pymc3/distributions/bound.py\u001b[0m in \u001b[0;36mlogp\u001b[0;34m(self, value)\u001b[0m\n\u001b[1;32m     42\u001b[0m             \u001b[0mbounds\u001b[0m\u001b[0;34m.\u001b[0m\u001b[0mappend\u001b[0m\u001b[0;34m(\u001b[0m\u001b[0mvalue\u001b[0m \u001b[0;34m<=\u001b[0m \u001b[0mself\u001b[0m\u001b[0;34m.\u001b[0m\u001b[0mupper\u001b[0m\u001b[0;34m)\u001b[0m\u001b[0;34m\u001b[0m\u001b[0m\n\u001b[1;32m     43\u001b[0m         \u001b[0;32mif\u001b[0m \u001b[0mlen\u001b[0m\u001b[0;34m(\u001b[0m\u001b[0mbounds\u001b[0m\u001b[0;34m)\u001b[0m \u001b[0;34m>\u001b[0m \u001b[0;36m0\u001b[0m\u001b[0;34m:\u001b[0m\u001b[0;34m\u001b[0m\u001b[0m\n\u001b[0;32m---> 44\u001b[0;31m             \u001b[0;32mreturn\u001b[0m \u001b[0mbound\u001b[0m\u001b[0;34m(\u001b[0m\u001b[0mlogp\u001b[0m\u001b[0;34m,\u001b[0m \u001b[0;34m*\u001b[0m\u001b[0mbounds\u001b[0m\u001b[0;34m)\u001b[0m\u001b[0;34m\u001b[0m\u001b[0m\n\u001b[0m\u001b[1;32m     45\u001b[0m         \u001b[0;32melse\u001b[0m\u001b[0;34m:\u001b[0m\u001b[0;34m\u001b[0m\u001b[0m\n\u001b[1;32m     46\u001b[0m             \u001b[0;32mreturn\u001b[0m \u001b[0mlogp\u001b[0m\u001b[0;34m\u001b[0m\u001b[0m\n",
      "\u001b[0;32m~/.local/lib/python3.6/site-packages/pymc3/distributions/dist_math.py\u001b[0m in \u001b[0;36mbound\u001b[0;34m(logp, *conditions, **kwargs)\u001b[0m\n\u001b[1;32m     47\u001b[0m         \u001b[0malltrue\u001b[0m \u001b[0;34m=\u001b[0m \u001b[0malltrue_scalar\u001b[0m\u001b[0;34m\u001b[0m\u001b[0m\n\u001b[1;32m     48\u001b[0m \u001b[0;34m\u001b[0m\u001b[0m\n\u001b[0;32m---> 49\u001b[0;31m     \u001b[0;32mreturn\u001b[0m \u001b[0mtt\u001b[0m\u001b[0;34m.\u001b[0m\u001b[0mswitch\u001b[0m\u001b[0;34m(\u001b[0m\u001b[0malltrue\u001b[0m\u001b[0;34m(\u001b[0m\u001b[0mconditions\u001b[0m\u001b[0;34m)\u001b[0m\u001b[0;34m,\u001b[0m \u001b[0mlogp\u001b[0m\u001b[0;34m,\u001b[0m \u001b[0;34m-\u001b[0m\u001b[0mnp\u001b[0m\u001b[0;34m.\u001b[0m\u001b[0minf\u001b[0m\u001b[0;34m)\u001b[0m\u001b[0;34m\u001b[0m\u001b[0m\n\u001b[0m\u001b[1;32m     50\u001b[0m \u001b[0;34m\u001b[0m\u001b[0m\n\u001b[1;32m     51\u001b[0m \u001b[0;34m\u001b[0m\u001b[0m\n",
      "\u001b[0;32m~/.local/lib/python3.6/site-packages/theano/gof/op.py\u001b[0m in \u001b[0;36m__call__\u001b[0;34m(self, *inputs, **kwargs)\u001b[0m\n\u001b[1;32m    672\u001b[0m                 \u001b[0mthunk\u001b[0m\u001b[0;34m.\u001b[0m\u001b[0moutputs\u001b[0m \u001b[0;34m=\u001b[0m \u001b[0;34m[\u001b[0m\u001b[0mstorage_map\u001b[0m\u001b[0;34m[\u001b[0m\u001b[0mv\u001b[0m\u001b[0;34m]\u001b[0m \u001b[0;32mfor\u001b[0m \u001b[0mv\u001b[0m \u001b[0;32min\u001b[0m \u001b[0mnode\u001b[0m\u001b[0;34m.\u001b[0m\u001b[0moutputs\u001b[0m\u001b[0;34m]\u001b[0m\u001b[0;34m\u001b[0m\u001b[0m\n\u001b[1;32m    673\u001b[0m \u001b[0;34m\u001b[0m\u001b[0m\n\u001b[0;32m--> 674\u001b[0;31m                 \u001b[0mrequired\u001b[0m \u001b[0;34m=\u001b[0m \u001b[0mthunk\u001b[0m\u001b[0;34m(\u001b[0m\u001b[0;34m)\u001b[0m\u001b[0;34m\u001b[0m\u001b[0m\n\u001b[0m\u001b[1;32m    675\u001b[0m                 \u001b[0;32massert\u001b[0m \u001b[0;32mnot\u001b[0m \u001b[0mrequired\u001b[0m  \u001b[0;31m# We provided all inputs\u001b[0m\u001b[0;34m\u001b[0m\u001b[0m\n\u001b[1;32m    676\u001b[0m \u001b[0;34m\u001b[0m\u001b[0m\n",
      "\u001b[0;32m~/.local/lib/python3.6/site-packages/theano/gof/op.py\u001b[0m in \u001b[0;36mrval\u001b[0;34m()\u001b[0m\n\u001b[1;32m    860\u001b[0m \u001b[0;34m\u001b[0m\u001b[0m\n\u001b[1;32m    861\u001b[0m         \u001b[0;32mdef\u001b[0m \u001b[0mrval\u001b[0m\u001b[0;34m(\u001b[0m\u001b[0;34m)\u001b[0m\u001b[0;34m:\u001b[0m\u001b[0;34m\u001b[0m\u001b[0m\n\u001b[0;32m--> 862\u001b[0;31m             \u001b[0mthunk\u001b[0m\u001b[0;34m(\u001b[0m\u001b[0;34m)\u001b[0m\u001b[0;34m\u001b[0m\u001b[0m\n\u001b[0m\u001b[1;32m    863\u001b[0m             \u001b[0;32mfor\u001b[0m \u001b[0mo\u001b[0m \u001b[0;32min\u001b[0m \u001b[0mnode\u001b[0m\u001b[0;34m.\u001b[0m\u001b[0moutputs\u001b[0m\u001b[0;34m:\u001b[0m\u001b[0;34m\u001b[0m\u001b[0m\n\u001b[1;32m    864\u001b[0m                 \u001b[0mcompute_map\u001b[0m\u001b[0;34m[\u001b[0m\u001b[0mo\u001b[0m\u001b[0;34m]\u001b[0m\u001b[0;34m[\u001b[0m\u001b[0;36m0\u001b[0m\u001b[0;34m]\u001b[0m \u001b[0;34m=\u001b[0m \u001b[0;32mTrue\u001b[0m\u001b[0;34m\u001b[0m\u001b[0m\n",
      "\u001b[0;32m~/.local/lib/python3.6/site-packages/theano/gof/cc.py\u001b[0m in \u001b[0;36m__call__\u001b[0;34m(self)\u001b[0m\n\u001b[1;32m   1733\u001b[0m                 \u001b[0mprint\u001b[0m\u001b[0;34m(\u001b[0m\u001b[0mself\u001b[0m\u001b[0;34m.\u001b[0m\u001b[0merror_storage\u001b[0m\u001b[0;34m,\u001b[0m \u001b[0mfile\u001b[0m\u001b[0;34m=\u001b[0m\u001b[0msys\u001b[0m\u001b[0;34m.\u001b[0m\u001b[0mstderr\u001b[0m\u001b[0;34m)\u001b[0m\u001b[0;34m\u001b[0m\u001b[0m\n\u001b[1;32m   1734\u001b[0m                 \u001b[0;32mraise\u001b[0m\u001b[0;34m\u001b[0m\u001b[0m\n\u001b[0;32m-> 1735\u001b[0;31m             \u001b[0mreraise\u001b[0m\u001b[0;34m(\u001b[0m\u001b[0mexc_type\u001b[0m\u001b[0;34m,\u001b[0m \u001b[0mexc_value\u001b[0m\u001b[0;34m,\u001b[0m \u001b[0mexc_trace\u001b[0m\u001b[0;34m)\u001b[0m\u001b[0;34m\u001b[0m\u001b[0m\n\u001b[0m\u001b[1;32m   1736\u001b[0m \u001b[0;34m\u001b[0m\u001b[0m\n\u001b[1;32m   1737\u001b[0m \u001b[0;34m\u001b[0m\u001b[0m\n",
      "\u001b[0;32m/opt/sys/anaconda3/lib/python3.6/site-packages/six.py\u001b[0m in \u001b[0;36mreraise\u001b[0;34m(tp, value, tb)\u001b[0m\n\u001b[1;32m    691\u001b[0m             \u001b[0;32mif\u001b[0m \u001b[0mvalue\u001b[0m\u001b[0;34m.\u001b[0m\u001b[0m__traceback__\u001b[0m \u001b[0;32mis\u001b[0m \u001b[0;32mnot\u001b[0m \u001b[0mtb\u001b[0m\u001b[0;34m:\u001b[0m\u001b[0;34m\u001b[0m\u001b[0m\n\u001b[1;32m    692\u001b[0m                 \u001b[0;32mraise\u001b[0m \u001b[0mvalue\u001b[0m\u001b[0;34m.\u001b[0m\u001b[0mwith_traceback\u001b[0m\u001b[0;34m(\u001b[0m\u001b[0mtb\u001b[0m\u001b[0;34m)\u001b[0m\u001b[0;34m\u001b[0m\u001b[0m\n\u001b[0;32m--> 693\u001b[0;31m             \u001b[0;32mraise\u001b[0m \u001b[0mvalue\u001b[0m\u001b[0;34m\u001b[0m\u001b[0m\n\u001b[0m\u001b[1;32m    694\u001b[0m         \u001b[0;32mfinally\u001b[0m\u001b[0;34m:\u001b[0m\u001b[0;34m\u001b[0m\u001b[0m\n\u001b[1;32m    695\u001b[0m             \u001b[0mvalue\u001b[0m \u001b[0;34m=\u001b[0m \u001b[0;32mNone\u001b[0m\u001b[0;34m\u001b[0m\u001b[0m\n",
      "\u001b[0;31mValueError\u001b[0m: Input dimension mis-match. (input[0].shape[1] = 10, input[1].shape[1] = 96)"
     ]
    }
   ],
   "source": [
    "n, m = data.shape\n",
    "dim = 10  # dimensionality\n",
    "beta_0 = 1  # scaling factor for lambdas; unclear on its use\n",
    "alpha = np.ones((n,m)) * 2  # fixed precision for likelihood function\n",
    "\n",
    "print('building the BPMF model')\n",
    "std = 0.001  # how much noise to use for model initialization\n",
    "with pm.Model() as bpmf:\n",
    "    # Specify user feature matrix\n",
    "\n",
    "    p_u = pm.Normal(\n",
    "        'mu_u', mu=.1, tau=beta_0, shape=dim,\n",
    "        testval=np.random.randn(dim) * std + 1/dim)\n",
    "    U = pm.Bernoulli(\n",
    "        'U', p=p_u, \n",
    "        shape=(n, dim),\n",
    "        )\n",
    "    '''   # Specify item feature matrix\n",
    "    lambda_v = pm.Normal(\n",
    "        'lambda_v', mu=1/dim, tau=std * np.eye(dim), shape=(dim, dim),\n",
    "        #testval=100 + np.random.randn(dim, dim) * std\n",
    "    )\n",
    "        '''\n",
    "    mu_v = pm.Normal(\n",
    "        'mu_v', mu=1/dim, tau=beta_0,# * lambda_v, \n",
    "        shape=dim,\n",
    "    #     testval=np.random.randn(dim) * std\n",
    "    )\n",
    "    \n",
    "    BoundedMvNormal = pm.Bound(pm.MvNormal, lower=0, upper=1)\n",
    "\n",
    "    V = BoundedMvNormal(\n",
    "        'V', mu=mu_v, tau=.5*np.eye(dim), shape=(m, dim),\n",
    "#        testval=np.random.randn(m, dim) * std + 1000\n",
    "    )\n",
    "\n",
    "    # Specify rating likelihood function\n",
    "    R = pm.Normal(\n",
    "        'R', mu=theano.tensor.dot(U, V.T), tau=alpha,\n",
    "        observed=data)\n",
    "    \n",
    "\n",
    "    start = pm.find_MAP()\n",
    "    for RV in bpmf.basic_RVs:\n",
    "        print(RV.name, RV.logp(bpmf.test_point))\n",
    "    #inference = pm.ADVI()\n",
    "    #approx = pm.fit(n=30000, method=inference)\n",
    "    trace = pm.sample(2000, tune=500, cores=10)"
   ]
  },
  {
   "cell_type": "code",
   "execution_count": 10,
   "metadata": {
    "ExecuteTime": {
     "end_time": "2018-10-23T17:30:09.311256Z",
     "start_time": "2018-10-23T17:30:08.076634Z"
    }
   },
   "outputs": [
    {
     "data": {
      "text/plain": [
       "<matplotlib.axes._subplots.AxesSubplot at 0x7f5654139320>"
      ]
     },
     "execution_count": 10,
     "metadata": {},
     "output_type": "execute_result"
    },
    {
     "data": {
      "image/png": "[encoded data removed]",
      "text/plain": [
       "<Figure size 432x288 with 1 Axes>"
      ]
     },
     "metadata": {},
     "output_type": "display_data"
    }
   ],
   "source": [
    "pm.energyplot(trace)"
   ]
  },
  {
   "cell_type": "code",
   "execution_count": null,
   "metadata": {},
   "outputs": [],
   "source": []
  },
  {
   "cell_type": "code",
   "execution_count": 13,
   "metadata": {
    "ExecuteTime": {
     "end_time": "2018-10-23T17:36:39.798586Z",
     "start_time": "2018-10-23T17:36:39.662974Z"
    }
   },
   "outputs": [
    {
     "data": {
      "text/plain": [
       "array([[-0.03326167, -0.06052525,  0.06608302,  0.06772012, -0.05323647,\n",
       "         0.15244533,  0.00086113, -0.06287792, -0.01455837,  0.18044662],\n",
       "       [-0.01475206, -0.0647915 ,  0.03135722,  0.0353581 , -0.0770355 ,\n",
       "         0.16170427, -0.06609413, -0.04697777, -0.05768652,  0.14223756],\n",
       "       [-0.06196252, -0.08534257,  0.02060212,  0.04847616, -0.04462879,\n",
       "         0.14809405, -0.10992787, -0.02862272, -0.0314527 ,  0.16594866],\n",
       "       [ 0.00726848, -0.06637782, -0.00743127,  0.01164127, -0.06937585,\n",
       "         0.20634539, -0.11483716, -0.02511204, -0.06855921,  0.14424302],\n",
       "       [-0.08072432, -0.04298009, -0.01198895,  0.06060826, -0.00526895,\n",
       "         0.13041733, -0.14436052, -0.01377865, -0.07360239,  0.1884915 ],\n",
       "       [ 0.01783753, -0.10498522,  0.04891866,  0.02298993, -0.09913827,\n",
       "         0.14359464, -0.0872222 , -0.01891085, -0.09836422,  0.15706198],\n",
       "       [-0.0221247 , -0.05356839,  0.02688007,  0.09168358, -0.04821098,\n",
       "         0.19209405, -0.07113932, -0.07514754, -0.04347178,  0.14318176],\n",
       "       [-0.0167425 , -0.05699741,  0.0511528 ,  0.02267273, -0.02779667,\n",
       "         0.1302041 , -0.11050568, -0.01718981, -0.08469936,  0.1739217 ],\n",
       "       [-0.00719953, -0.11766552,  0.06044976,  0.1081481 , -0.04743855,\n",
       "         0.11307816, -0.08000839, -0.09895945, -0.0305597 ,  0.18019738],\n",
       "       [-0.00496201, -0.08631582,  0.01208151,  0.0795306 , -0.05335872,\n",
       "         0.15799656, -0.08448859,  0.02254383, -0.00857323,  0.15978278],\n",
       "       [-0.00761719, -0.09258054,  0.05293506,  0.0373427 ,  0.01293532,\n",
       "         0.17941397, -0.08473062, -0.06309221, -0.00082403,  0.18421345],\n",
       "       [-0.00449088, -0.02142593,  0.05129067,  0.04265634, -0.04434096,\n",
       "         0.11366462, -0.0336542 , -0.06313673, -0.07085029,  0.17474954],\n",
       "       [-0.05341227, -0.0861513 ,  0.04651195,  0.07132728, -0.01771013,\n",
       "         0.14434603, -0.08553232, -0.04451198, -0.0624076 ,  0.1579875 ],\n",
       "       [-0.0327044 , -0.06714951,  0.0852818 ,  0.04760306, -0.0615537 ,\n",
       "         0.18417582, -0.08907476, -0.11542544, -0.05994344,  0.13302658],\n",
       "       [-0.09256292, -0.09514897,  0.09837673,  0.02807903, -0.05606217,\n",
       "         0.14588429, -0.12615642, -0.10285451, -0.08225915,  0.17186345],\n",
       "       [ 0.00029471, -0.08704541,  0.02965415,  0.06805683, -0.04667861,\n",
       "         0.13094741, -0.05253822, -0.06573696, -0.08586143,  0.19126006],\n",
       "       [-0.01989075, -0.03940881,  0.01025804,  0.05511396, -0.0678089 ,\n",
       "         0.10958022, -0.10197543, -0.05864641, -0.02729605,  0.16022422],\n",
       "       [ 0.00891176, -0.07047107,  0.02695897,  0.04531096,  0.00135799,\n",
       "         0.13795022, -0.12535449, -0.01986767, -0.12842113,  0.15911541],\n",
       "       [-0.02274629, -0.03896222,  0.05642449,  0.04207138, -0.06985226,\n",
       "         0.18048985, -0.0523633 , -0.09024133, -0.07095548,  0.14026   ],\n",
       "       [-0.09582536, -0.07360671,  0.01384905,  0.11346421, -0.01720879,\n",
       "         0.17541476, -0.05496338, -0.0415078 , -0.06423606,  0.15545736],\n",
       "       [ 0.04478098, -0.04901235,  0.01619145,  0.0301032 , -0.03514109,\n",
       "         0.16508858, -0.05609028, -0.0872126 , -0.09034343,  0.20439775],\n",
       "       [-0.06773912, -0.00812268,  0.00743734,  0.02709454, -0.01102936,\n",
       "         0.19257313, -0.06087396, -0.0359821 , -0.08844178,  0.17060964],\n",
       "       [ 0.02397503, -0.03859525,  0.03560655,  0.08646634, -0.01809373,\n",
       "         0.15526297, -0.13324348, -0.07923085, -0.07358467,  0.15663541],\n",
       "       [ 0.03679043, -0.08709834, -0.00644527,  0.07750951, -0.06213752,\n",
       "         0.11870893, -0.07361989, -0.01816295, -0.11287151,  0.16152889],\n",
       "       [-0.01614438, -0.06667904,  0.06402946,  0.07652068, -0.06011326,\n",
       "         0.16580994, -0.07960346, -0.10278029, -0.04290001,  0.13952593],\n",
       "       [-0.02745319, -0.09064167,  0.01741621,  0.09213895, -0.06319702,\n",
       "         0.18300066, -0.0165825 , -0.13294854, -0.0678709 ,  0.15303925],\n",
       "       [-0.02274365, -0.0798071 ,  0.00492423,  0.0381035 , -0.08335498,\n",
       "         0.17453738, -0.06705493, -0.10369743, -0.09247254,  0.17549054],\n",
       "       [-0.00513637, -0.06705669,  0.00975832,  0.06829845,  0.03175097,\n",
       "         0.19174555, -0.07136813, -0.0240805 , -0.03968755,  0.17644486],\n",
       "       [-0.0022841 , -0.05022917,  0.01897479,  0.05798931, -0.03376536,\n",
       "         0.11572875, -0.09175564, -0.04358241, -0.06814918,  0.19238414],\n",
       "       [ 0.00030456, -0.06239108,  0.07378191, -0.00237614, -0.03565483,\n",
       "         0.17575241, -0.11958836, -0.04185376, -0.07652567,  0.1656011 ],\n",
       "       [-0.06574911, -0.05878531, -0.02003442,  0.03563687, -0.08149992,\n",
       "         0.15410035, -0.04296109, -0.09751774, -0.08977796,  0.17649154],\n",
       "       [ 0.04791117, -0.04981334,  0.03379283,  0.06198209, -0.06909403,\n",
       "         0.13122104, -0.10082689, -0.06172368, -0.09071473,  0.18778839],\n",
       "       [ 0.0395481 , -0.07620104,  0.05975891, -0.01124032, -0.06253089,\n",
       "         0.14893649, -0.12066736, -0.08839721, -0.069728  ,  0.15417553],\n",
       "       [-0.0404741 , -0.05850956,  0.00467273,  0.03370556, -0.03494492,\n",
       "         0.18278806, -0.0830406 , -0.10465416, -0.06201204,  0.17193903],\n",
       "       [-0.05648038, -0.08805984,  0.02918595,  0.07903513, -0.08271166,\n",
       "         0.21812606, -0.0625181 , -0.10078931, -0.08499739,  0.12353607],\n",
       "       [-0.00760622, -0.08823364,  0.04261844,  0.05017597, -0.04507434,\n",
       "         0.15039488, -0.07100009, -0.09318069, -0.06243597,  0.17345351],\n",
       "       [-0.02645483, -0.03199511,  0.05638044,  0.00260333, -0.05207012,\n",
       "         0.13986373, -0.03293615, -0.04408135, -0.05217059,  0.17943749],\n",
       "       [ 0.00236043,  0.00907739,  0.04447279,  0.06341765, -0.03276252,\n",
       "         0.1462286 , -0.0287218 , -0.09037621, -0.07932144,  0.19049194],\n",
       "       [-0.01317064, -0.0373522 ,  0.02404005,  0.10223612,  0.01172626,\n",
       "         0.15172068, -0.02862175, -0.08144851, -0.08271023,  0.13912386],\n",
       "       [ 0.02616068, -0.08028111,  0.09055886,  0.07407956, -0.01288885,\n",
       "         0.11513673, -0.09972603, -0.04379269, -0.01661809,  0.19121266],\n",
       "       [-0.03552186, -0.00497984, -0.02931448,  0.01135074, -0.02457531,\n",
       "         0.1497501 , -0.11700286, -0.0432679 , -0.07986651,  0.16658164],\n",
       "       [-0.03618654, -0.06859661,  0.02212381,  0.04211878, -0.04417084,\n",
       "         0.15956639, -0.08659208, -0.04596882, -0.11890395,  0.18986016],\n",
       "       [-0.06783549, -0.07315357, -0.00644819,  0.02824456, -0.02181512,\n",
       "         0.19444249, -0.06180437, -0.05079551, -0.05579546,  0.17592676],\n",
       "       [ 0.04360621, -0.11320172,  0.01528396,  0.07907502, -0.05187486,\n",
       "         0.13331347, -0.06329694, -0.08126434, -0.0142341 ,  0.18475313],\n",
       "       [ 0.06097392, -0.07604879,  0.07275336,  0.05088649, -0.01678442,\n",
       "         0.14262776, -0.06815891, -0.01846499, -0.06192423,  0.1866097 ],\n",
       "       [-0.03575749, -0.03302946,  0.01797106,  0.04109214, -0.06759964,\n",
       "         0.11662459, -0.07234621, -0.07691402, -0.01749205,  0.17922207],\n",
       "       [-0.04569305, -0.08800434,  0.04688232,  0.04250908, -0.05117868,\n",
       "         0.14007899, -0.04835053, -0.04057121, -0.03452766,  0.16816625],\n",
       "       [ 0.02069466, -0.05446182, -0.00856151,  0.02512785, -0.03644738,\n",
       "         0.21079683, -0.12235539, -0.06067478, -0.08318335,  0.15622605],\n",
       "       [-0.01301113, -0.04284355,  0.06573837,  0.04693029, -0.10478669,\n",
       "         0.16299131, -0.07793702, -0.08578835, -0.07168751,  0.17115535],\n",
       "       [-0.0034216 , -0.06898301,  0.04660139,  0.0539115 , -0.09233185,\n",
       "         0.21720921, -0.08959876, -0.03859816, -0.09906043,  0.13956348],\n",
       "       [-0.00704182, -0.05418776,  0.06670421,  0.02829099, -0.06730588,\n",
       "         0.19587021, -0.0833668 , -0.05925558, -0.0043977 ,  0.17117031],\n",
       "       [-0.0223632 , -0.0718067 ,  0.03478367,  0.03734646, -0.03969959,\n",
       "         0.18428117, -0.02859341, -0.11123019, -0.04138266,  0.16208775],\n",
       "       [ 0.01689376, -0.0315472 ,  0.04582743,  0.04569846, -0.00199683,\n",
       "         0.13842568, -0.03274319, -0.06752418, -0.07073547,  0.21529125],\n",
       "       [-0.03280346, -0.10116716,  0.05625167,  0.04266434, -0.06633658,\n",
       "         0.17598273, -0.10853288, -0.01268384, -0.00884454,  0.17475214],\n",
       "       [ 0.03442972, -0.10449766,  0.06074194,  0.03073249, -0.06258271,\n",
       "         0.1311714 , -0.08385486, -0.06800497, -0.07166547,  0.18902423],\n",
       "       [-0.00346969, -0.01124112,  0.03222855,  0.04588874, -0.02513477,\n",
       "         0.16618468, -0.10002842, -0.08718604, -0.04578048,  0.14714747],\n",
       "       [ 0.01169201, -0.1115551 , -0.05511698,  0.06879351, -0.04326475,\n",
       "         0.13059768, -0.09368581, -0.11711585, -0.04096047,  0.14953283],\n",
       "       [-0.0621498 , -0.0468909 ,  0.04933132,  0.07923743, -0.00099173,\n",
       "         0.12641507, -0.07036066, -0.00241465, -0.02878555,  0.18777219],\n",
       "       [-0.04265796, -0.02709332,  0.08594415,  0.06278294, -0.01765068,\n",
       "         0.11246437, -0.00748558, -0.01175269, -0.10353783,  0.19382149],\n",
       "       [-0.00629126, -0.10470901,  0.0493056 ,  0.06216957, -0.06245729,\n",
       "         0.14750364, -0.08144415, -0.02810533, -0.04752084,  0.18657223],\n",
       "       [-0.0725996 , -0.06491934,  0.01924247,  0.06299709, -0.08340287,\n",
       "         0.1432509 , -0.06760607, -0.07842902, -0.03682851,  0.17320739],\n",
       "       [ 0.0121679 , -0.10654241,  0.04848622,  0.03033159, -0.03382848,\n",
       "         0.14945432, -0.04887213, -0.04291895, -0.05483246,  0.18137471],\n",
       "       [ 0.01598337, -0.10428011,  0.00695848,  0.04840882, -0.01826501,\n",
       "         0.17202339, -0.08923896, -0.07746573, -0.00937851,  0.14696819],\n",
       "       [-0.00072991, -0.0470575 ,  0.05224576,  0.00215576, -0.03069937,\n",
       "         0.17070923, -0.08747706, -0.10079465, -0.0288865 ,  0.17030668],\n",
       "       [-0.00932391, -0.02369767,  0.04622336,  0.09429172, -0.00863766,\n",
       "         0.13101185, -0.11166396, -0.10067798, -0.06838944,  0.16145386],\n",
       "       [-0.02248391, -0.05356743,  0.00084856,  0.03746315, -0.05916638,\n",
       "         0.16499842, -0.08392574, -0.02491371, -0.04836663,  0.167374  ],\n",
       "       [-0.01821593, -0.0592634 ,  0.02384933,  0.01336306, -0.03113942,\n",
       "         0.13238798, -0.07191072, -0.04788818, -0.03235098,  0.1923758 ],\n",
       "       [-0.05248238, -0.08671279,  0.03264884,  0.04305805, -0.05039333,\n",
       "         0.13855348, -0.07945875, -0.06770594, -0.04930167,  0.19964502],\n",
       "       [-0.06860286, -0.05495137,  0.0431738 ,  0.04434921, -0.06524952,\n",
       "         0.15379925, -0.07261575, -0.08080113, -0.06429181,  0.14131599],\n",
       "       [-0.04051166, -0.04911547,  0.00558429, -0.03911498, -0.04037465,\n",
       "         0.14845946, -0.0562645 , -0.04262888, -0.07458693,  0.17868505],\n",
       "       [ 0.01615999, -0.09881464,  0.02939662,  0.08293307, -0.03139297,\n",
       "         0.165313  , -0.14694544, -0.07511203, -0.05858256,  0.17035965],\n",
       "       [-0.00913339, -0.02682663,  0.1232395 ,  0.04508162, -0.0131671 ,\n",
       "         0.14478961, -0.05612531, -0.00733342, -0.12322432,  0.1646862 ],\n",
       "       [-0.05174339, -0.06807602,  0.02924185,  0.04045309, -0.07101336,\n",
       "         0.18625086, -0.11068943, -0.06752178, -0.03564008,  0.16866213],\n",
       "       [-0.01385312, -0.02317474, -0.01294492,  0.02331979, -0.09191754,\n",
       "         0.14323122, -0.03606668, -0.04488122, -0.06806683,  0.18739509],\n",
       "       [-0.03314766, -0.07002197,  0.02582588,  0.03716633, -0.07838821,\n",
       "         0.15518211, -0.16108664, -0.05157418, -0.04424241,  0.16421195],\n",
       "       [-0.03603555, -0.0711469 ,  0.03746839,  0.02939933,  0.00761275,\n",
       "         0.128693  , -0.09319501, -0.07891802, -0.06153349,  0.19386839],\n",
       "       [ 0.01668895, -0.08879244,  0.06879243,  0.06027897, -0.0313293 ,\n",
       "         0.12735682, -0.05249715,  0.01883368, -0.04665274,  0.19982921],\n",
       "       [ 0.00275507, -0.07883602, -0.0213818 ,  0.0219383 ,  0.00425414,\n",
       "         0.1106251 , -0.09839235, -0.04294381, -0.04260471,  0.18476229],\n",
       "       [ 0.01232316, -0.05353805,  0.02750941,  0.0833081 , -0.0434419 ,\n",
       "         0.14845915, -0.01837193, -0.07592134, -0.01886496,  0.14984831],\n",
       "       [ 0.0084531 , -0.03475546,  0.11941203,  0.03481209, -0.02923009,\n",
       "         0.1216932 , -0.11061631, -0.05675958, -0.02337605,  0.17841234],\n",
       "       [-0.06159912, -0.05437755,  0.02381127,  0.0084826 , -0.05666929,\n",
       "         0.19570949, -0.07879997, -0.01388816, -0.07187702,  0.16372523],\n",
       "       [-0.03463469, -0.06889648,  0.03457565,  0.01444053, -0.0696517 ,\n",
       "         0.19874753, -0.12740491, -0.0493886 , -0.06270133,  0.16207923],\n",
       "       [-0.02517256, -0.05148885,  0.02252848,  0.0922141 , -0.05163546,\n",
       "         0.1543339 , -0.0841713 , -0.04873039, -0.05607204,  0.18235482],\n",
       "       [-0.0592265 , -0.03064305, -0.02621162,  0.05946714,  0.0034302 ,\n",
       "         0.15475583, -0.03206018, -0.0435454 , -0.02908337,  0.17239323],\n",
       "       [-0.03323973, -0.10364195,  0.06222577,  0.07071413, -0.05506531,\n",
       "         0.13889661, -0.05307531, -0.03821528, -0.02492945,  0.17212155],\n",
       "       [-0.02742785, -0.06658238,  0.0301068 ,  0.03294412,  0.01961136,\n",
       "         0.15470207, -0.03203434, -0.00586984, -0.08900999,  0.16874535],\n",
       "       [-0.00532399, -0.04141646,  0.046424  ,  0.10718729, -0.02915419,\n",
       "         0.14439191, -0.09365133, -0.0341879 , -0.0795387 ,  0.16216586],\n",
       "       [-0.02223222, -0.07351351,  0.07351533,  0.00564868, -0.0359353 ,\n",
       "         0.12083435, -0.04261673, -0.07729406, -0.03525882,  0.16233707],\n",
       "       [-0.01986504, -0.1132406 ,  0.03413711,  0.05285593, -0.00780938,\n",
       "         0.14799715, -0.09710182, -0.09986099, -0.05399004,  0.15882112],\n",
       "       [-0.01867627, -0.09700538,  0.05330991,  0.06223314, -0.02826293,\n",
       "         0.10212546, -0.08122361, -0.05900546, -0.12121255,  0.15328451],\n",
       "       [-0.03339743, -0.05867164,  0.01796406, -0.00927664, -0.05254173,\n",
       "         0.11882842, -0.04591235, -0.06579938, -0.04729633,  0.20015381],\n",
       "       [-0.02050323, -0.07960498,  0.02558365,  0.12206517,  0.02873476,\n",
       "         0.13534619, -0.07972343, -0.05380375, -0.05953014,  0.17079757],\n",
       "       [ 0.00477364, -0.10752668,  0.00961128,  0.06717387, -0.01919516,\n",
       "         0.14195971, -0.05930659, -0.10389467, -0.02127797,  0.17381208],\n",
       "       [-0.036519  , -0.03504471,  0.00095724,  0.06298248, -0.0054153 ,\n",
       "         0.12502023, -0.06416138, -0.09158596, -0.01768143,  0.17604191],\n",
       "       [-0.10644825, -0.05936898,  0.00512159,  0.02853483, -0.07891381,\n",
       "         0.16714504, -0.05668959, -0.02014618, -0.08288737,  0.16832423],\n",
       "       [-0.03707711, -0.06914068,  0.04740586,  0.08427603, -0.03906001,\n",
       "         0.12630929, -0.08102943, -0.04501511, -0.07298726,  0.2016916 ]])"
      ]
     },
     "execution_count": 13,
     "metadata": {},
     "output_type": "execute_result"
    }
   ],
   "source": [
    "trace.get_values('V')[-2]"
   ]
  },
  {
   "cell_type": "code",
   "execution_count": null,
   "metadata": {},
   "outputs": [],
   "source": []
  },
  {
   "cell_type": "code",
   "execution_count": null,
   "metadata": {},
   "outputs": [],
   "source": []
  },
  {
   "cell_type": "code",
   "execution_count": 27,
   "metadata": {
    "ExecuteTime": {
     "end_time": "2018-10-23T18:10:57.763993Z",
     "start_time": "2018-10-23T18:10:57.745735Z"
    }
   },
   "outputs": [
    {
     "ename": "ModuleNotFoundError",
     "evalue": "No module named 'pystan'",
     "output_type": "error",
     "traceback": [
      "\u001b[0;31m---------------------------------------------------------------------------\u001b[0m",
      "\u001b[0;31mModuleNotFoundError\u001b[0m                       Traceback (most recent call last)",
      "\u001b[0;32m<ipython-input-27-ca8618bb8e4a>\u001b[0m in \u001b[0;36m<module>\u001b[0;34m()\u001b[0m\n\u001b[0;32m----> 1\u001b[0;31m \u001b[0;32mimport\u001b[0m \u001b[0mpystan\u001b[0m\u001b[0;34m\u001b[0m\u001b[0m\n\u001b[0m",
      "\u001b[0;31mModuleNotFoundError\u001b[0m: No module named 'pystan'"
     ]
    }
   ],
   "source": [
    "import pystan"
   ]
  },
  {
   "cell_type": "code",
   "execution_count": 65,
   "metadata": {
    "ExecuteTime": {
     "end_time": "2018-10-24T17:32:31.934576Z",
     "start_time": "2018-10-24T17:32:31.855107Z"
    }
   },
   "outputs": [
    {
     "ename": "ValueError",
     "evalue": "Failed to parse Stan model 'anon_model_8e392cf955d1e175ee9b58e842f601b6'. Error message:\nSYNTAX ERROR, MESSAGE(S) FROM PARSER:\n\nNo matches for: \n\n  matrix ~ normal(matrix, int)\n\nAvailable argument signatures for normal:\n\n  real ~ normal(real, real)\n  real ~ normal(real, real[])\n  real ~ normal(real, vector)\n  real ~ normal(real, row vector)\n  real ~ normal(real[], real)\n  real ~ normal(real[], real[])\n  real ~ normal(real[], vector)\n  real ~ normal(real[], row vector)\n  real ~ normal(vector, real)\n  real ~ normal(vector, real[])\n  real ~ normal(vector, vector)\n  real ~ normal(vector, row vector)\n  real ~ normal(row vector, real)\n  real ~ normal(row vector, real[])\n  real ~ normal(row vector, vector)\n  real ~ normal(row vector, row vector)\n  real[] ~ normal(real, real)\n  real[] ~ normal(real, real[])\n  real[] ~ normal(real, vector)\n  real[] ~ normal(real, row vector)\n  real[] ~ normal(real[], real)\n  real[] ~ normal(real[], real[])\n  real[] ~ normal(real[], vector)\n  real[] ~ normal(real[], row vector)\n  real[] ~ normal(vector, real)\n  real[] ~ normal(vector, real[])\n  real[] ~ normal(vector, vector)\n  real[] ~ normal(vector, row vector)\n  real[] ~ normal(row vector, real)\n  real[] ~ normal(row vector, real[])\n  real[] ~ normal(row vector, vector)\n  real[] ~ normal(row vector, row vector)\n  vector ~ normal(real, real)\n  vector ~ normal(real, real[])\n  vector ~ normal(real, vector)\n  vector ~ normal(real, row vector)\n  vector ~ normal(real[], real)\n  vector ~ normal(real[], real[])\n  vector ~ normal(real[], vector)\n  vector ~ normal(real[], row vector)\n  vector ~ normal(vector, real)\n  vector ~ normal(vector, real[])\n  vector ~ normal(vector, vector)\n  vector ~ normal(vector, row vector)\n  vector ~ normal(row vector, real)\n  vector ~ normal(row vector, real[])\n  vector ~ normal(row vector, vector)\n  vector ~ normal(row vector, row vector)\n  row vector ~ normal(real, real)\n  row vector ~ normal(real, real[])\n  row vector ~ normal(real, vector)\n  row vector ~ normal(real, row vector)\n  row vector ~ normal(real[], real)\n  row vector ~ normal(real[], real[])\n  row vector ~ normal(real[], vector)\n  row vector ~ normal(real[], row vector)\n  row vector ~ normal(vector, real)\n  row vector ~ normal(vector, real[])\n  row vector ~ normal(vector, vector)\n  row vector ~ normal(vector, row vector)\n  row vector ~ normal(row vector, real)\n  row vector ~ normal(row vector, real[])\n  row vector ~ normal(row vector, vector)\n  row vector ~ normal(row vector, row vector)\n\nrequire real scalar return type for probability function.\n  error in 'unknown file name' at line 29, column 24\n  -------------------------------------------------\n    27:         //U[i] = v;\n    28:         }\n    29:     R ~ normal(V*U, 1);\n                               ^\n    30: }\n  -------------------------------------------------\n\n",
     "output_type": "error",
     "traceback": [
      "\u001b[0;31m---------------------------------------------------------------------------\u001b[0m",
      "\u001b[0;31mValueError\u001b[0m                                Traceback (most recent call last)",
      "\u001b[0;32m<ipython-input-65-408480696a7d>\u001b[0m in \u001b[0;36m<module>\u001b[0;34m()\u001b[0m\n\u001b[1;32m     33\u001b[0m }\n\u001b[1;32m     34\u001b[0m \"\"\"\n\u001b[0;32m---> 35\u001b[0;31m \u001b[0msm\u001b[0m \u001b[0;34m=\u001b[0m \u001b[0mpystan\u001b[0m\u001b[0;34m.\u001b[0m\u001b[0mStanModel\u001b[0m\u001b[0;34m(\u001b[0m\u001b[0mmodel_code\u001b[0m\u001b[0;34m=\u001b[0m\u001b[0mocode\u001b[0m\u001b[0;34m)\u001b[0m\u001b[0;34m\u001b[0m\u001b[0m\n\u001b[0m\u001b[1;32m     36\u001b[0m \u001b[0;34m\u001b[0m\u001b[0m\n\u001b[1;32m     37\u001b[0m \u001b[0mop\u001b[0m \u001b[0;34m=\u001b[0m \u001b[0msm\u001b[0m\u001b[0;34m.\u001b[0m\u001b[0moptimizing\u001b[0m\u001b[0;34m(\u001b[0m\u001b[0mdata\u001b[0m\u001b[0;34m=\u001b[0m\u001b[0mdict\u001b[0m\u001b[0;34m(\u001b[0m\u001b[0mn\u001b[0m\u001b[0;34m=\u001b[0m\u001b[0mn\u001b[0m\u001b[0;34m,\u001b[0m \u001b[0mm\u001b[0m\u001b[0;34m=\u001b[0m\u001b[0mm\u001b[0m\u001b[0;34m,\u001b[0m \u001b[0md\u001b[0m\u001b[0;34m=\u001b[0m\u001b[0;36m10\u001b[0m\u001b[0;34m,\u001b[0m \u001b[0mR\u001b[0m\u001b[0;34m=\u001b[0m\u001b[0mdata\u001b[0m\u001b[0;34m)\u001b[0m\u001b[0;34m)\u001b[0m\u001b[0;34m\u001b[0m\u001b[0m\n",
      "\u001b[0;32m~/.local/lib/python3.6/site-packages/pystan/model.py\u001b[0m in \u001b[0;36m__init__\u001b[0;34m(self, file, charset, model_name, model_code, stanc_ret, include_paths, boost_lib, eigen_lib, verbose, obfuscate_model_name, extra_compile_args)\u001b[0m\n\u001b[1;32m    222\u001b[0m                                          \u001b[0mverbose\u001b[0m\u001b[0;34m=\u001b[0m\u001b[0mverbose\u001b[0m\u001b[0;34m,\u001b[0m\u001b[0;34m\u001b[0m\u001b[0m\n\u001b[1;32m    223\u001b[0m                                          \u001b[0minclude_paths\u001b[0m\u001b[0;34m=\u001b[0m\u001b[0minclude_paths\u001b[0m\u001b[0;34m,\u001b[0m\u001b[0;34m\u001b[0m\u001b[0m\n\u001b[0;32m--> 224\u001b[0;31m                                          obfuscate_model_name=obfuscate_model_name)\n\u001b[0m\u001b[1;32m    225\u001b[0m \u001b[0;34m\u001b[0m\u001b[0m\n\u001b[1;32m    226\u001b[0m         \u001b[0;32mif\u001b[0m \u001b[0;32mnot\u001b[0m \u001b[0misinstance\u001b[0m\u001b[0;34m(\u001b[0m\u001b[0mstanc_ret\u001b[0m\u001b[0;34m,\u001b[0m \u001b[0mdict\u001b[0m\u001b[0;34m)\u001b[0m\u001b[0;34m:\u001b[0m\u001b[0;34m\u001b[0m\u001b[0m\n",
      "\u001b[0;32m~/.local/lib/python3.6/site-packages/pystan/api.py\u001b[0m in \u001b[0;36mstanc\u001b[0;34m(file, charset, model_code, model_name, include_paths, verbose, obfuscate_model_name)\u001b[0m\n\u001b[1;32m    166\u001b[0m             \u001b[0mmsg\u001b[0m \u001b[0;34m=\u001b[0m \u001b[0mmsg\u001b[0m\u001b[0;34m.\u001b[0m\u001b[0mencode\u001b[0m\u001b[0;34m(\u001b[0m\u001b[0;34m'ascii'\u001b[0m\u001b[0;34m,\u001b[0m \u001b[0;34m'replace'\u001b[0m\u001b[0;34m)\u001b[0m\u001b[0;34m\u001b[0m\u001b[0m\n\u001b[1;32m    167\u001b[0m         \u001b[0merror_msg\u001b[0m \u001b[0;34m=\u001b[0m \u001b[0;34m\"Failed to parse Stan model '{}'. Error message:\\n{}\"\u001b[0m\u001b[0;34m.\u001b[0m\u001b[0mformat\u001b[0m\u001b[0;34m(\u001b[0m\u001b[0mmodel_name\u001b[0m\u001b[0;34m,\u001b[0m \u001b[0mmsg\u001b[0m\u001b[0;34m)\u001b[0m\u001b[0;34m\u001b[0m\u001b[0m\n\u001b[0;32m--> 168\u001b[0;31m         \u001b[0;32mraise\u001b[0m \u001b[0mValueError\u001b[0m\u001b[0;34m(\u001b[0m\u001b[0merror_msg\u001b[0m\u001b[0;34m)\u001b[0m\u001b[0;34m\u001b[0m\u001b[0m\n\u001b[0m\u001b[1;32m    169\u001b[0m     \u001b[0;32melif\u001b[0m \u001b[0mresult\u001b[0m\u001b[0;34m[\u001b[0m\u001b[0;34m'status'\u001b[0m\u001b[0;34m]\u001b[0m \u001b[0;34m==\u001b[0m \u001b[0;36m0\u001b[0m\u001b[0;34m:\u001b[0m  \u001b[0;31m# SUCCESS_RC is 0\u001b[0m\u001b[0;34m\u001b[0m\u001b[0m\n\u001b[1;32m    170\u001b[0m         \u001b[0mlogger\u001b[0m\u001b[0;34m.\u001b[0m\u001b[0mdebug\u001b[0m\u001b[0;34m(\u001b[0m\u001b[0;34m\"Successfully parsed Stan model '{}'.\"\u001b[0m\u001b[0;34m.\u001b[0m\u001b[0mformat\u001b[0m\u001b[0;34m(\u001b[0m\u001b[0mmodel_name\u001b[0m\u001b[0;34m)\u001b[0m\u001b[0;34m)\u001b[0m\u001b[0;34m\u001b[0m\u001b[0m\n",
      "\u001b[0;31mValueError\u001b[0m: Failed to parse Stan model 'anon_model_8e392cf955d1e175ee9b58e842f601b6'. Error message:\nSYNTAX ERROR, MESSAGE(S) FROM PARSER:\n\nNo matches for: \n\n  matrix ~ normal(matrix, int)\n\nAvailable argument signatures for normal:\n\n  real ~ normal(real, real)\n  real ~ normal(real, real[])\n  real ~ normal(real, vector)\n  real ~ normal(real, row vector)\n  real ~ normal(real[], real)\n  real ~ normal(real[], real[])\n  real ~ normal(real[], vector)\n  real ~ normal(real[], row vector)\n  real ~ normal(vector, real)\n  real ~ normal(vector, real[])\n  real ~ normal(vector, vector)\n  real ~ normal(vector, row vector)\n  real ~ normal(row vector, real)\n  real ~ normal(row vector, real[])\n  real ~ normal(row vector, vector)\n  real ~ normal(row vector, row vector)\n  real[] ~ normal(real, real)\n  real[] ~ normal(real, real[])\n  real[] ~ normal(real, vector)\n  real[] ~ normal(real, row vector)\n  real[] ~ normal(real[], real)\n  real[] ~ normal(real[], real[])\n  real[] ~ normal(real[], vector)\n  real[] ~ normal(real[], row vector)\n  real[] ~ normal(vector, real)\n  real[] ~ normal(vector, real[])\n  real[] ~ normal(vector, vector)\n  real[] ~ normal(vector, row vector)\n  real[] ~ normal(row vector, real)\n  real[] ~ normal(row vector, real[])\n  real[] ~ normal(row vector, vector)\n  real[] ~ normal(row vector, row vector)\n  vector ~ normal(real, real)\n  vector ~ normal(real, real[])\n  vector ~ normal(real, vector)\n  vector ~ normal(real, row vector)\n  vector ~ normal(real[], real)\n  vector ~ normal(real[], real[])\n  vector ~ normal(real[], vector)\n  vector ~ normal(real[], row vector)\n  vector ~ normal(vector, real)\n  vector ~ normal(vector, real[])\n  vector ~ normal(vector, vector)\n  vector ~ normal(vector, row vector)\n  vector ~ normal(row vector, real)\n  vector ~ normal(row vector, real[])\n  vector ~ normal(row vector, vector)\n  vector ~ normal(row vector, row vector)\n  row vector ~ normal(real, real)\n  row vector ~ normal(real, real[])\n  row vector ~ normal(real, vector)\n  row vector ~ normal(real, row vector)\n  row vector ~ normal(real[], real)\n  row vector ~ normal(real[], real[])\n  row vector ~ normal(real[], vector)\n  row vector ~ normal(real[], row vector)\n  row vector ~ normal(vector, real)\n  row vector ~ normal(vector, real[])\n  row vector ~ normal(vector, vector)\n  row vector ~ normal(vector, row vector)\n  row vector ~ normal(row vector, real)\n  row vector ~ normal(row vector, real[])\n  row vector ~ normal(row vector, vector)\n  row vector ~ normal(row vector, row vector)\n\nrequire real scalar return type for probability function.\n  error in 'unknown file name' at line 29, column 24\n  -------------------------------------------------\n    27:         //U[i] = v;\n    28:         }\n    29:     R ~ normal(V*U, 1);\n                               ^\n    30: }\n  -------------------------------------------------\n\n"
     ]
    }
   ],
   "source": [
    "import pystan\n",
    "import numpy as np\n",
    "\n",
    "ocode = \"\"\"\n",
    "data {\n",
    "    int<lower=1> n;   // number of SNPs\n",
    "    int<lower=1> m;   // number of samples\n",
    "    int<lower=1> d;   // number of strains\n",
    "    matrix<lower=0,upper=1>[n,m] R;\n",
    "}\n",
    "parameters {\n",
    "    matrix<lower=0,upper=1>[n,d] V;\n",
    "    matrix<lower=0,upper=1>[d,m] U;\n",
    "    real<lower=0,upper=0.1> alpha_v[n];\n",
    "    real<lower=0,upper=0.1> beta_v[n];\n",
    "    matrix[d,d] lambda_u;\n",
    "    vector[d] mu_u;\n",
    "}\n",
    "model {\n",
    "    for (i in 1:n){\n",
    "        alpha_v[i] ~ uniform(0, 0.1);\n",
    "        beta_v[i] ~ uniform(0, 0.1);\n",
    "        V[i] ~ beta(alpha_v[i], beta_v[i]);\n",
    "    }\n",
    "    lambda_u ~ wishart(1.0/d, diag_matrix(rep_vector(1, d)));\n",
    "    mu_u ~ normal(1.0,diagonal(lambda_u));\n",
    "    for (i in 1:d){\n",
    "        row_vector[m] tempvec;\n",
    "        tempvec ~ multi_normal(mu_u, lambda_u);\n",
    "        //U[i] = v;\n",
    "        }\n",
    "    R ~ normal(V*U, 1);\n",
    "}\n",
    "\"\"\"\n",
    "sm = pystan.StanModel(model_code=ocode)\n",
    "\n",
    "op = sm.optimizing(data=dict(n=n, m=m, d=10, R=data))\n",
    "\n",
    "op"
   ]
  },
  {
   "cell_type": "code",
   "execution_count": 34,
   "metadata": {
    "ExecuteTime": {
     "end_time": "2018-10-23T18:26:09.179917Z",
     "start_time": "2018-10-23T18:26:09.147447Z"
    }
   },
   "outputs": [
    {
     "name": "stdout",
     "output_type": "stream",
     "text": [
      "0.219999028126\n"
     ]
    },
    {
     "data": {
      "text/plain": [
       "OrderedDict([('mu', array(0.21999902812623962))])"
      ]
     },
     "execution_count": 34,
     "metadata": {},
     "output_type": "execute_result"
    }
   ],
   "source": [
    "print(np.mean(y2))\n"
   ]
  },
  {
   "cell_type": "code",
   "execution_count": null,
   "metadata": {},
   "outputs": [],
   "source": []
  },
  {
   "cell_type": "code",
   "execution_count": 3,
   "metadata": {
    "ExecuteTime": {
     "end_time": "2018-10-18T23:41:52.414062Z",
     "start_time": "2018-10-18T23:41:37.856247Z"
    }
   },
   "outputs": [
    {
     "name": "stdout",
     "output_type": "stream",
     "text": [
      "10000 96 9 87\n"
     ]
    },
    {
     "name": "stderr",
     "output_type": "stream",
     "text": [
      "/opt/sys/anaconda3/lib/python3.6/site-packages/ipykernel_launcher.py:6: DeprecationWarning: \n",
      ".ix is deprecated. Please use\n",
      ".loc for label based indexing or\n",
      ".iloc for positional indexing\n",
      "\n",
      "See the documentation here:\n",
      "http://pandas.pydata.org/pandas-docs/stable/indexing.html#ix-indexer-is-deprecated\n",
      "  \n",
      "/opt/sys/anaconda3/lib/python3.6/site-packages/ipykernel_launcher.py:11: DeprecationWarning: \n",
      ".ix is deprecated. Please use\n",
      ".loc for label based indexing or\n",
      ".iloc for positional indexing\n",
      "\n",
      "See the documentation here:\n",
      "http://pandas.pydata.org/pandas-docs/stable/indexing.html#ix-indexer-is-deprecated\n",
      "  # This is added back by InteractiveShellApp.init_path()\n",
      "WARNING (theano.tensor.blas): We did not find a dynamic library in the library_dir of the library we use for blas. If you use ATLAS, make sure to compile it with dynamics library.\n",
      "  0%|          | 0/5000 [00:00<?, ?it/s]/opt/sys/anaconda3/lib/python3.6/site-packages/scipy/optimize/_minimize.py:502: RuntimeWarning: Method powell does not use gradient information (jac).\n",
      "  RuntimeWarning)\n",
      "\n"
     ]
    },
    {
     "ename": "MemoryError",
     "evalue": "",
     "output_type": "error",
     "traceback": [
      "\u001b[0;31m---------------------------------------------------------------------------\u001b[0m",
      "\u001b[0;31mMemoryError\u001b[0m                               Traceback (most recent call last)",
      "\u001b[0;32m<ipython-input-3-1dab55af032b>\u001b[0m in \u001b[0;36m<module>\u001b[0;34m()\u001b[0m\n\u001b[1;32m     27\u001b[0m \u001b[0;34m\u001b[0m\u001b[0m\n\u001b[1;32m     28\u001b[0m     \u001b[0;31m# Find mode of posterior using optimization\u001b[0m\u001b[0;34m\u001b[0m\u001b[0;34m\u001b[0m\u001b[0m\n\u001b[0;32m---> 29\u001b[0;31m     \u001b[0mstart\u001b[0m \u001b[0;34m=\u001b[0m \u001b[0mpm\u001b[0m\u001b[0;34m.\u001b[0m\u001b[0mfind_MAP\u001b[0m\u001b[0;34m(\u001b[0m\u001b[0mmethod\u001b[0m\u001b[0;34m=\u001b[0m\u001b[0;34m'powell'\u001b[0m\u001b[0;34m)\u001b[0m\u001b[0;34m\u001b[0m\u001b[0m\n\u001b[0m",
      "\u001b[0;32m~/.local/lib/python3.6/site-packages/pymc3/tuning/starting.py\u001b[0m in \u001b[0;36mfind_MAP\u001b[0;34m(start, vars, method, return_raw, include_transformed, progressbar, maxeval, model, *args, **kwargs)\u001b[0m\n\u001b[1;32m    120\u001b[0m \u001b[0;34m\u001b[0m\u001b[0m\n\u001b[1;32m    121\u001b[0m         \u001b[0;32mtry\u001b[0m\u001b[0;34m:\u001b[0m\u001b[0;34m\u001b[0m\u001b[0m\n\u001b[0;32m--> 122\u001b[0;31m             \u001b[0mopt_result\u001b[0m \u001b[0;34m=\u001b[0m \u001b[0mminimize\u001b[0m\u001b[0;34m(\u001b[0m\u001b[0mcost_func\u001b[0m\u001b[0;34m,\u001b[0m \u001b[0mx0\u001b[0m\u001b[0;34m,\u001b[0m \u001b[0mmethod\u001b[0m\u001b[0;34m=\u001b[0m\u001b[0mmethod\u001b[0m\u001b[0;34m,\u001b[0m \u001b[0mjac\u001b[0m\u001b[0;34m=\u001b[0m\u001b[0mcompute_gradient\u001b[0m\u001b[0;34m,\u001b[0m \u001b[0;34m*\u001b[0m\u001b[0margs\u001b[0m\u001b[0;34m,\u001b[0m \u001b[0;34m**\u001b[0m\u001b[0mkwargs\u001b[0m\u001b[0;34m)\u001b[0m\u001b[0;34m\u001b[0m\u001b[0m\n\u001b[0m\u001b[1;32m    123\u001b[0m             \u001b[0mmx0\u001b[0m \u001b[0;34m=\u001b[0m \u001b[0mopt_result\u001b[0m\u001b[0;34m[\u001b[0m\u001b[0;34m\"x\"\u001b[0m\u001b[0;34m]\u001b[0m  \u001b[0;31m# r -> opt_result\u001b[0m\u001b[0;34m\u001b[0m\u001b[0m\n\u001b[1;32m    124\u001b[0m             \u001b[0mcost_func\u001b[0m\u001b[0;34m.\u001b[0m\u001b[0mprogress\u001b[0m\u001b[0;34m.\u001b[0m\u001b[0mtotal\u001b[0m \u001b[0;34m=\u001b[0m \u001b[0mcost_func\u001b[0m\u001b[0;34m.\u001b[0m\u001b[0mprogress\u001b[0m\u001b[0;34m.\u001b[0m\u001b[0mn\u001b[0m \u001b[0;34m+\u001b[0m \u001b[0;36m1\u001b[0m\u001b[0;34m\u001b[0m\u001b[0m\n",
      "\u001b[0;32m/opt/sys/anaconda3/lib/python3.6/site-packages/scipy/optimize/_minimize.py\u001b[0m in \u001b[0;36mminimize\u001b[0;34m(fun, x0, args, method, jac, hess, hessp, bounds, constraints, tol, callback, options)\u001b[0m\n\u001b[1;32m    591\u001b[0m         \u001b[0;32mreturn\u001b[0m \u001b[0m_minimize_neldermead\u001b[0m\u001b[0;34m(\u001b[0m\u001b[0mfun\u001b[0m\u001b[0;34m,\u001b[0m \u001b[0mx0\u001b[0m\u001b[0;34m,\u001b[0m \u001b[0margs\u001b[0m\u001b[0;34m,\u001b[0m \u001b[0mcallback\u001b[0m\u001b[0;34m,\u001b[0m \u001b[0;34m**\u001b[0m\u001b[0moptions\u001b[0m\u001b[0;34m)\u001b[0m\u001b[0;34m\u001b[0m\u001b[0m\n\u001b[1;32m    592\u001b[0m     \u001b[0;32melif\u001b[0m \u001b[0mmeth\u001b[0m \u001b[0;34m==\u001b[0m \u001b[0;34m'powell'\u001b[0m\u001b[0;34m:\u001b[0m\u001b[0;34m\u001b[0m\u001b[0m\n\u001b[0;32m--> 593\u001b[0;31m         \u001b[0;32mreturn\u001b[0m \u001b[0m_minimize_powell\u001b[0m\u001b[0;34m(\u001b[0m\u001b[0mfun\u001b[0m\u001b[0;34m,\u001b[0m \u001b[0mx0\u001b[0m\u001b[0;34m,\u001b[0m \u001b[0margs\u001b[0m\u001b[0;34m,\u001b[0m \u001b[0mcallback\u001b[0m\u001b[0;34m,\u001b[0m \u001b[0;34m**\u001b[0m\u001b[0moptions\u001b[0m\u001b[0;34m)\u001b[0m\u001b[0;34m\u001b[0m\u001b[0m\n\u001b[0m\u001b[1;32m    594\u001b[0m     \u001b[0;32melif\u001b[0m \u001b[0mmeth\u001b[0m \u001b[0;34m==\u001b[0m \u001b[0;34m'cg'\u001b[0m\u001b[0;34m:\u001b[0m\u001b[0;34m\u001b[0m\u001b[0m\n\u001b[1;32m    595\u001b[0m         \u001b[0;32mreturn\u001b[0m \u001b[0m_minimize_cg\u001b[0m\u001b[0;34m(\u001b[0m\u001b[0mfun\u001b[0m\u001b[0;34m,\u001b[0m \u001b[0mx0\u001b[0m\u001b[0;34m,\u001b[0m \u001b[0margs\u001b[0m\u001b[0;34m,\u001b[0m \u001b[0mjac\u001b[0m\u001b[0;34m,\u001b[0m \u001b[0mcallback\u001b[0m\u001b[0;34m,\u001b[0m \u001b[0;34m**\u001b[0m\u001b[0moptions\u001b[0m\u001b[0;34m)\u001b[0m\u001b[0;34m\u001b[0m\u001b[0m\n",
      "\u001b[0;32m/opt/sys/anaconda3/lib/python3.6/site-packages/scipy/optimize/optimize.py\u001b[0m in \u001b[0;36m_minimize_powell\u001b[0;34m(func, x0, args, callback, xtol, ftol, maxiter, maxfev, disp, direc, return_all, **unknown_options)\u001b[0m\n\u001b[1;32m   2554\u001b[0m \u001b[0;34m\u001b[0m\u001b[0m\n\u001b[1;32m   2555\u001b[0m     \u001b[0;32mif\u001b[0m \u001b[0mdirec\u001b[0m \u001b[0;32mis\u001b[0m \u001b[0;32mNone\u001b[0m\u001b[0;34m:\u001b[0m\u001b[0;34m\u001b[0m\u001b[0m\n\u001b[0;32m-> 2556\u001b[0;31m         \u001b[0mdirec\u001b[0m \u001b[0;34m=\u001b[0m \u001b[0meye\u001b[0m\u001b[0;34m(\u001b[0m\u001b[0mN\u001b[0m\u001b[0;34m,\u001b[0m \u001b[0mdtype\u001b[0m\u001b[0;34m=\u001b[0m\u001b[0mfloat\u001b[0m\u001b[0;34m)\u001b[0m\u001b[0;34m\u001b[0m\u001b[0m\n\u001b[0m\u001b[1;32m   2557\u001b[0m     \u001b[0;32melse\u001b[0m\u001b[0;34m:\u001b[0m\u001b[0;34m\u001b[0m\u001b[0m\n\u001b[1;32m   2558\u001b[0m         \u001b[0mdirec\u001b[0m \u001b[0;34m=\u001b[0m \u001b[0masarray\u001b[0m\u001b[0;34m(\u001b[0m\u001b[0mdirec\u001b[0m\u001b[0;34m,\u001b[0m \u001b[0mdtype\u001b[0m\u001b[0;34m=\u001b[0m\u001b[0mfloat\u001b[0m\u001b[0;34m)\u001b[0m\u001b[0;34m\u001b[0m\u001b[0m\n",
      "\u001b[0;32m~/.local/lib/python3.6/site-packages/numpy/lib/twodim_base.py\u001b[0m in \u001b[0;36meye\u001b[0;34m(N, M, k, dtype)\u001b[0m\n\u001b[1;32m    178\u001b[0m     \u001b[0;32mif\u001b[0m \u001b[0mM\u001b[0m \u001b[0;32mis\u001b[0m \u001b[0;32mNone\u001b[0m\u001b[0;34m:\u001b[0m\u001b[0;34m\u001b[0m\u001b[0m\n\u001b[1;32m    179\u001b[0m         \u001b[0mM\u001b[0m \u001b[0;34m=\u001b[0m \u001b[0mN\u001b[0m\u001b[0;34m\u001b[0m\u001b[0m\n\u001b[0;32m--> 180\u001b[0;31m     \u001b[0mm\u001b[0m \u001b[0;34m=\u001b[0m \u001b[0mzeros\u001b[0m\u001b[0;34m(\u001b[0m\u001b[0;34m(\u001b[0m\u001b[0mN\u001b[0m\u001b[0;34m,\u001b[0m \u001b[0mM\u001b[0m\u001b[0;34m)\u001b[0m\u001b[0;34m,\u001b[0m \u001b[0mdtype\u001b[0m\u001b[0;34m=\u001b[0m\u001b[0mdtype\u001b[0m\u001b[0;34m)\u001b[0m\u001b[0;34m\u001b[0m\u001b[0m\n\u001b[0m\u001b[1;32m    181\u001b[0m     \u001b[0;32mif\u001b[0m \u001b[0mk\u001b[0m \u001b[0;34m>=\u001b[0m \u001b[0mM\u001b[0m\u001b[0;34m:\u001b[0m\u001b[0;34m\u001b[0m\u001b[0m\n\u001b[1;32m    182\u001b[0m         \u001b[0;32mreturn\u001b[0m \u001b[0mm\u001b[0m\u001b[0;34m\u001b[0m\u001b[0m\n",
      "\u001b[0;31mMemoryError\u001b[0m: "
     ]
    }
   ],
   "source": [
    "test_size = m // 10\n",
    "train_size = m - test_size\n",
    "\n",
    "print(n, m, test_size, train_size)\n",
    "train = data.copy()\n",
    "train.ix[:,train_size:] = np.nan  # remove test set data\n",
    "train[train.isnull()] = train.mean().mean()  # mean value imputation\n",
    "train = train.values\n",
    "\n",
    "test = data.copy()\n",
    "test.ix[:,:train_size] = np.nan  # remove train set data\n",
    "test = test.values    \n",
    "\n",
    "# Low precision reflects uncertainty; prevents overfitting\n",
    "alpha_u = alpha_v = 1/np.var(train)\n",
    "alpha = np.ones((n,m)) * 2  # fixed precision for likelihood function\n",
    "dim = 63  # dimensionality\n",
    "\n",
    "# Specify the model.\n",
    "with pm.Model() as pmf:\n",
    "    pmf_U = pm.MvNormal('U', mu=0, tau=alpha_u * np.eye(dim),\n",
    "                        shape=(n, dim), testval=np.random.randn(n, dim)*.01)\n",
    "    pmf_V = pm.MvNormal('V', mu=0, tau=alpha_v * np.eye(dim),\n",
    "                        shape=(m, dim), testval=np.random.randn(m, dim)*.01)\n",
    "    pmf_R = pm.Normal('R', mu=theano.tensor.dot(pmf_U, pmf_V.T),\n",
    "                      tau=alpha, observed=train)\n",
    "\n",
    "    # Find mode of posterior using optimization\n",
    "    start = pm.find_MAP(method='powell')"
   ]
  },
  {
   "cell_type": "code",
   "execution_count": null,
   "metadata": {
    "ExecuteTime": {
     "start_time": "2018-10-23T02:12:32.309Z"
    }
   },
   "outputs": [
    {
     "ename": "KeyboardInterrupt",
     "evalue": "",
     "output_type": "error",
     "traceback": [
      "\u001b[0;31m---------------------------------------------------------------------------\u001b[0m",
      "\u001b[0;31mKeyboardInterrupt\u001b[0m                         Traceback (most recent call last)",
      "\u001b[0;32m<ipython-input-41-4b673fced3da>\u001b[0m in \u001b[0;36m<module>\u001b[0;34m()\u001b[0m\n\u001b[0;32m----> 1\u001b[0;31m \u001b[0mpm\u001b[0m\u001b[0;34m.\u001b[0m\u001b[0mtraceplot\u001b[0m\u001b[0;34m(\u001b[0m\u001b[0mtrace\u001b[0m\u001b[0;34m)\u001b[0m\u001b[0;34m\u001b[0m\u001b[0m\n\u001b[0m",
      "\u001b[0;32m~/.local/lib/python3.6/site-packages/pymc3/plots/traceplot.py\u001b[0m in \u001b[0;36mtraceplot\u001b[0;34m(trace, varnames, transform, figsize, lines, combined, plot_transformed, grid, alpha, priors, prior_alpha, prior_style, bw, ax, live_plot, skip_first, refresh_every, roll_over)\u001b[0m\n\u001b[1;32m    109\u001b[0m             \u001b[0mwidth\u001b[0m \u001b[0;34m=\u001b[0m \u001b[0mlen\u001b[0m\u001b[0;34m(\u001b[0m\u001b[0md_stream\u001b[0m\u001b[0;34m)\u001b[0m\u001b[0;34m\u001b[0m\u001b[0m\n\u001b[1;32m    110\u001b[0m             \u001b[0;32mif\u001b[0m \u001b[0md\u001b[0m\u001b[0;34m.\u001b[0m\u001b[0mdtype\u001b[0m\u001b[0;34m.\u001b[0m\u001b[0mkind\u001b[0m \u001b[0;34m==\u001b[0m \u001b[0;34m'i'\u001b[0m\u001b[0;34m:\u001b[0m\u001b[0;34m\u001b[0m\u001b[0m\n\u001b[0;32m--> 111\u001b[0;31m                 \u001b[0mhist_objs\u001b[0m \u001b[0;34m=\u001b[0m \u001b[0mhistplot_op\u001b[0m\u001b[0;34m(\u001b[0m\u001b[0max\u001b[0m\u001b[0;34m[\u001b[0m\u001b[0mi\u001b[0m\u001b[0;34m,\u001b[0m \u001b[0;36m0\u001b[0m\u001b[0;34m]\u001b[0m\u001b[0;34m,\u001b[0m \u001b[0md\u001b[0m\u001b[0;34m,\u001b[0m \u001b[0malpha\u001b[0m\u001b[0;34m=\u001b[0m\u001b[0malpha\u001b[0m\u001b[0;34m)\u001b[0m\u001b[0;34m\u001b[0m\u001b[0m\n\u001b[0m\u001b[1;32m    112\u001b[0m                 \u001b[0mcolors\u001b[0m \u001b[0;34m=\u001b[0m \u001b[0;34m[\u001b[0m\u001b[0mh\u001b[0m\u001b[0;34m[\u001b[0m\u001b[0;34m-\u001b[0m\u001b[0;36m1\u001b[0m\u001b[0;34m]\u001b[0m\u001b[0;34m[\u001b[0m\u001b[0;36m0\u001b[0m\u001b[0;34m]\u001b[0m\u001b[0;34m.\u001b[0m\u001b[0mget_facecolor\u001b[0m\u001b[0;34m(\u001b[0m\u001b[0;34m)\u001b[0m \u001b[0;32mfor\u001b[0m \u001b[0mh\u001b[0m \u001b[0;32min\u001b[0m \u001b[0mhist_objs\u001b[0m\u001b[0;34m]\u001b[0m\u001b[0;34m\u001b[0m\u001b[0m\n\u001b[1;32m    113\u001b[0m             \u001b[0;32melse\u001b[0m\u001b[0;34m:\u001b[0m\u001b[0;34m\u001b[0m\u001b[0m\n",
      "\u001b[0;32m~/.local/lib/python3.6/site-packages/pymc3/plots/artists.py\u001b[0m in \u001b[0;36mhistplot_op\u001b[0;34m(ax, data, alpha)\u001b[0m\n\u001b[1;32m     19\u001b[0m     \u001b[0;32mfor\u001b[0m \u001b[0mcolumn\u001b[0m \u001b[0;32min\u001b[0m \u001b[0mdata\u001b[0m\u001b[0;34m.\u001b[0m\u001b[0mT\u001b[0m\u001b[0;34m:\u001b[0m\u001b[0;34m\u001b[0m\u001b[0m\n\u001b[1;32m     20\u001b[0m         hs.append(ax.hist(column, bins=_histplot_bins(\n\u001b[0;32m---> 21\u001b[0;31m                   column), alpha=alpha, align='left'))\n\u001b[0m\u001b[1;32m     22\u001b[0m     \u001b[0max\u001b[0m\u001b[0;34m.\u001b[0m\u001b[0mset_xlim\u001b[0m\u001b[0;34m(\u001b[0m\u001b[0mnp\u001b[0m\u001b[0;34m.\u001b[0m\u001b[0mmin\u001b[0m\u001b[0;34m(\u001b[0m\u001b[0mdata\u001b[0m\u001b[0;34m)\u001b[0m \u001b[0;34m-\u001b[0m \u001b[0;36m0.5\u001b[0m\u001b[0;34m,\u001b[0m \u001b[0mnp\u001b[0m\u001b[0;34m.\u001b[0m\u001b[0mmax\u001b[0m\u001b[0;34m(\u001b[0m\u001b[0mdata\u001b[0m\u001b[0;34m)\u001b[0m \u001b[0;34m+\u001b[0m \u001b[0;36m0.5\u001b[0m\u001b[0;34m)\u001b[0m\u001b[0;34m\u001b[0m\u001b[0m\n\u001b[1;32m     23\u001b[0m     \u001b[0;32mreturn\u001b[0m \u001b[0mhs\u001b[0m\u001b[0;34m\u001b[0m\u001b[0m\n",
      "\u001b[0;32m/opt/sys/anaconda3/lib/python3.6/site-packages/matplotlib/__init__.py\u001b[0m in \u001b[0;36minner\u001b[0;34m(ax, *args, **kwargs)\u001b[0m\n\u001b[1;32m   1853\u001b[0m                         \u001b[0;34m\"the Matplotlib list!)\"\u001b[0m \u001b[0;34m%\u001b[0m \u001b[0;34m(\u001b[0m\u001b[0mlabel_namer\u001b[0m\u001b[0;34m,\u001b[0m \u001b[0mfunc\u001b[0m\u001b[0;34m.\u001b[0m\u001b[0m__name__\u001b[0m\u001b[0;34m)\u001b[0m\u001b[0;34m,\u001b[0m\u001b[0;34m\u001b[0m\u001b[0m\n\u001b[1;32m   1854\u001b[0m                         RuntimeWarning, stacklevel=2)\n\u001b[0;32m-> 1855\u001b[0;31m             \u001b[0;32mreturn\u001b[0m \u001b[0mfunc\u001b[0m\u001b[0;34m(\u001b[0m\u001b[0max\u001b[0m\u001b[0;34m,\u001b[0m \u001b[0;34m*\u001b[0m\u001b[0margs\u001b[0m\u001b[0;34m,\u001b[0m \u001b[0;34m**\u001b[0m\u001b[0mkwargs\u001b[0m\u001b[0;34m)\u001b[0m\u001b[0;34m\u001b[0m\u001b[0m\n\u001b[0m\u001b[1;32m   1856\u001b[0m \u001b[0;34m\u001b[0m\u001b[0m\n\u001b[1;32m   1857\u001b[0m         inner.__doc__ = _add_data_doc(inner.__doc__,\n",
      "\u001b[0;32m/opt/sys/anaconda3/lib/python3.6/site-packages/matplotlib/axes/_axes.py\u001b[0m in \u001b[0;36mhist\u001b[0;34m(***failed resolving arguments***)\u001b[0m\n\u001b[1;32m   6604\u001b[0m                 patch = _barfunc(bins[:-1]+boffset, height, width,\n\u001b[1;32m   6605\u001b[0m                                  \u001b[0malign\u001b[0m\u001b[0;34m=\u001b[0m\u001b[0;34m'center'\u001b[0m\u001b[0;34m,\u001b[0m \u001b[0mlog\u001b[0m\u001b[0;34m=\u001b[0m\u001b[0mlog\u001b[0m\u001b[0;34m,\u001b[0m\u001b[0;34m\u001b[0m\u001b[0m\n\u001b[0;32m-> 6606\u001b[0;31m                                  color=c, **{bottom_kwarg: bottom})\n\u001b[0m\u001b[1;32m   6607\u001b[0m                 \u001b[0mpatches\u001b[0m\u001b[0;34m.\u001b[0m\u001b[0mappend\u001b[0m\u001b[0;34m(\u001b[0m\u001b[0mpatch\u001b[0m\u001b[0;34m)\u001b[0m\u001b[0;34m\u001b[0m\u001b[0m\n\u001b[1;32m   6608\u001b[0m                 \u001b[0;32mif\u001b[0m \u001b[0mstacked\u001b[0m\u001b[0;34m:\u001b[0m\u001b[0;34m\u001b[0m\u001b[0m\n",
      "\u001b[0;32m/opt/sys/anaconda3/lib/python3.6/site-packages/matplotlib/__init__.py\u001b[0m in \u001b[0;36minner\u001b[0;34m(ax, *args, **kwargs)\u001b[0m\n\u001b[1;32m   1853\u001b[0m                         \u001b[0;34m\"the Matplotlib list!)\"\u001b[0m \u001b[0;34m%\u001b[0m \u001b[0;34m(\u001b[0m\u001b[0mlabel_namer\u001b[0m\u001b[0;34m,\u001b[0m \u001b[0mfunc\u001b[0m\u001b[0;34m.\u001b[0m\u001b[0m__name__\u001b[0m\u001b[0;34m)\u001b[0m\u001b[0;34m,\u001b[0m\u001b[0;34m\u001b[0m\u001b[0m\n\u001b[1;32m   1854\u001b[0m                         RuntimeWarning, stacklevel=2)\n\u001b[0;32m-> 1855\u001b[0;31m             \u001b[0;32mreturn\u001b[0m \u001b[0mfunc\u001b[0m\u001b[0;34m(\u001b[0m\u001b[0max\u001b[0m\u001b[0;34m,\u001b[0m \u001b[0;34m*\u001b[0m\u001b[0margs\u001b[0m\u001b[0;34m,\u001b[0m \u001b[0;34m**\u001b[0m\u001b[0mkwargs\u001b[0m\u001b[0;34m)\u001b[0m\u001b[0;34m\u001b[0m\u001b[0m\n\u001b[0m\u001b[1;32m   1856\u001b[0m \u001b[0;34m\u001b[0m\u001b[0m\n\u001b[1;32m   1857\u001b[0m         inner.__doc__ = _add_data_doc(inner.__doc__,\n",
      "\u001b[0;32m/opt/sys/anaconda3/lib/python3.6/site-packages/matplotlib/axes/_axes.py\u001b[0m in \u001b[0;36mbar\u001b[0;34m(self, *args, **kwargs)\u001b[0m\n\u001b[1;32m   2326\u001b[0m             \u001b[0mymin\u001b[0m \u001b[0;34m=\u001b[0m \u001b[0mmax\u001b[0m\u001b[0;34m(\u001b[0m\u001b[0mymin\u001b[0m \u001b[0;34m*\u001b[0m \u001b[0;36m0.9\u001b[0m\u001b[0;34m,\u001b[0m \u001b[0;36m1e-100\u001b[0m\u001b[0;34m)\u001b[0m\u001b[0;34m\u001b[0m\u001b[0m\n\u001b[1;32m   2327\u001b[0m             \u001b[0mself\u001b[0m\u001b[0;34m.\u001b[0m\u001b[0mdataLim\u001b[0m\u001b[0;34m.\u001b[0m\u001b[0mintervaly\u001b[0m \u001b[0;34m=\u001b[0m \u001b[0;34m(\u001b[0m\u001b[0mymin\u001b[0m\u001b[0;34m,\u001b[0m \u001b[0mymax\u001b[0m\u001b[0;34m)\u001b[0m\u001b[0;34m\u001b[0m\u001b[0m\n\u001b[0;32m-> 2328\u001b[0;31m         \u001b[0mself\u001b[0m\u001b[0;34m.\u001b[0m\u001b[0mautoscale_view\u001b[0m\u001b[0;34m(\u001b[0m\u001b[0;34m)\u001b[0m\u001b[0;34m\u001b[0m\u001b[0m\n\u001b[0m\u001b[1;32m   2329\u001b[0m \u001b[0;34m\u001b[0m\u001b[0m\n\u001b[1;32m   2330\u001b[0m         \u001b[0mbar_container\u001b[0m \u001b[0;34m=\u001b[0m \u001b[0mBarContainer\u001b[0m\u001b[0;34m(\u001b[0m\u001b[0mpatches\u001b[0m\u001b[0;34m,\u001b[0m \u001b[0merrorbar\u001b[0m\u001b[0;34m,\u001b[0m \u001b[0mlabel\u001b[0m\u001b[0;34m=\u001b[0m\u001b[0mlabel\u001b[0m\u001b[0;34m)\u001b[0m\u001b[0;34m\u001b[0m\u001b[0m\n",
      "\u001b[0;32m/opt/sys/anaconda3/lib/python3.6/site-packages/matplotlib/axes/_base.py\u001b[0m in \u001b[0;36mautoscale_view\u001b[0;34m(self, tight, scalex, scaley)\u001b[0m\n\u001b[1;32m   2448\u001b[0m             \u001b[0mstickies\u001b[0m \u001b[0;34m=\u001b[0m \u001b[0;34m[\u001b[0m\u001b[0martist\u001b[0m\u001b[0;34m.\u001b[0m\u001b[0msticky_edges\u001b[0m \u001b[0;32mfor\u001b[0m \u001b[0martist\u001b[0m \u001b[0;32min\u001b[0m \u001b[0mself\u001b[0m\u001b[0;34m.\u001b[0m\u001b[0mget_children\u001b[0m\u001b[0;34m(\u001b[0m\u001b[0;34m)\u001b[0m\u001b[0;34m]\u001b[0m\u001b[0;34m\u001b[0m\u001b[0m\n\u001b[1;32m   2449\u001b[0m             \u001b[0mx_stickies\u001b[0m \u001b[0;34m=\u001b[0m \u001b[0msum\u001b[0m\u001b[0;34m(\u001b[0m\u001b[0;34m[\u001b[0m\u001b[0msticky\u001b[0m\u001b[0;34m.\u001b[0m\u001b[0mx\u001b[0m \u001b[0;32mfor\u001b[0m \u001b[0msticky\u001b[0m \u001b[0;32min\u001b[0m \u001b[0mstickies\u001b[0m\u001b[0;34m]\u001b[0m\u001b[0;34m,\u001b[0m \u001b[0;34m[\u001b[0m\u001b[0;34m]\u001b[0m\u001b[0;34m)\u001b[0m\u001b[0;34m\u001b[0m\u001b[0m\n\u001b[0;32m-> 2450\u001b[0;31m             \u001b[0my_stickies\u001b[0m \u001b[0;34m=\u001b[0m \u001b[0msum\u001b[0m\u001b[0;34m(\u001b[0m\u001b[0;34m[\u001b[0m\u001b[0msticky\u001b[0m\u001b[0;34m.\u001b[0m\u001b[0my\u001b[0m \u001b[0;32mfor\u001b[0m \u001b[0msticky\u001b[0m \u001b[0;32min\u001b[0m \u001b[0mstickies\u001b[0m\u001b[0;34m]\u001b[0m\u001b[0;34m,\u001b[0m \u001b[0;34m[\u001b[0m\u001b[0;34m]\u001b[0m\u001b[0;34m)\u001b[0m\u001b[0;34m\u001b[0m\u001b[0m\n\u001b[0m\u001b[1;32m   2451\u001b[0m             \u001b[0;32mif\u001b[0m \u001b[0mself\u001b[0m\u001b[0;34m.\u001b[0m\u001b[0mget_xscale\u001b[0m\u001b[0;34m(\u001b[0m\u001b[0;34m)\u001b[0m\u001b[0;34m.\u001b[0m\u001b[0mlower\u001b[0m\u001b[0;34m(\u001b[0m\u001b[0;34m)\u001b[0m \u001b[0;34m==\u001b[0m \u001b[0;34m'log'\u001b[0m\u001b[0;34m:\u001b[0m\u001b[0;34m\u001b[0m\u001b[0m\n\u001b[1;32m   2452\u001b[0m                 \u001b[0mx_stickies\u001b[0m \u001b[0;34m=\u001b[0m \u001b[0;34m[\u001b[0m\u001b[0mxs\u001b[0m \u001b[0;32mfor\u001b[0m \u001b[0mxs\u001b[0m \u001b[0;32min\u001b[0m \u001b[0mx_stickies\u001b[0m \u001b[0;32mif\u001b[0m \u001b[0mxs\u001b[0m \u001b[0;34m>\u001b[0m \u001b[0;36m0\u001b[0m\u001b[0;34m]\u001b[0m\u001b[0;34m\u001b[0m\u001b[0m\n",
      "\u001b[0;31mKeyboardInterrupt\u001b[0m: "
     ]
    }
   ],
   "source": [
    "pm.traceplot(trace)"
   ]
  },
  {
   "cell_type": "code",
   "execution_count": 11,
   "metadata": {
    "ExecuteTime": {
     "end_time": "2018-10-18T23:45:02.034979Z",
     "start_time": "2018-10-18T23:45:02.027474Z"
    }
   },
   "outputs": [
    {
     "data": {
      "text/plain": [
       "[mu_u, U, lambda_v, mu_v, V]"
      ]
     },
     "execution_count": 11,
     "metadata": {},
     "output_type": "execute_result"
    }
   ],
   "source": [
    "bpmf.vars"
   ]
  },
  {
   "cell_type": "code",
   "execution_count": null,
   "metadata": {
    "ExecuteTime": {
     "end_time": "2018-10-18T00:08:45.133503Z",
     "start_time": "2018-10-18T00:07:37.945413Z"
    }
   },
   "outputs": [],
   "source": [
    "n, m = data.shape\n",
    "dim = 10  # dimensionality\n",
    "beta_0 = 1  # scaling factor for lambdas; unclear on its use\n",
    "alpha = np.ones((n,m)) * 2  # fixed precision for likelihood function\n",
    "\n",
    "print('building the BPMF model')\n",
    "std = .05  # how much noise to use for model initialization\n",
    "with pm.Model() as bpmf:\n",
    "    # Specify user feature matrix\n",
    "    lambda_u = pm.Wishart(\n",
    "        'lambda_u', nu=dim, V=np.eye(dim), shape=(dim, dim),\n",
    "        testval=np.random.randn(dim, dim) * std)\n",
    "    mu_u = pm.Normal(\n",
    "        'mu_u', mu=0, tau=beta_0 * lambda_u, shape=dim,\n",
    "        testval=np.random.randn(dim) * std)\n",
    "    U = pm.MvNormal(\n",
    "        'U', mu=mu_u, tau=lambda_u, shape=(n, dim),\n",
    "        testval=np.random.randn(n, dim) * std)\n",
    "\n",
    "    # Specify item feature matrix\n",
    "    lambda_v = pm.Wishart(\n",
    "        'lambda_v', nu=dim, V=np.eye(dim), shape=(dim, dim),\n",
    "        testval=np.random.randn(dim, dim) * std)\n",
    "    mu_v = pm.Normal(\n",
    "        'mu_v', mu=0, tau=beta_0 * lambda_v, shape=dim,\n",
    "         testval=np.random.randn(dim) * std)\n",
    "    V = pm.MvNormal(\n",
    "        'V', mu=mu_v, tau=lambda_v, shape=(m, dim),\n",
    "        testval=np.random.randn(m, dim) * std)\n",
    "\n",
    "    # Specify rating likelihood function\n",
    "    R = pm.Normal(\n",
    "        'R', mu=theano.tensor.dot(U, V.T), tau=alpha,\n",
    "        observed=train)\n",
    "\n",
    "# `start` is the start dictionary obtained from running find_MAP for PMF.\n",
    "for key in bpmf.test_point:\n",
    "    if key not in start:\n",
    "        start[key] = bpmf.test_point[key]\n",
    "\n",
    "with bpmf:\n",
    "    step = pm.NUTS(scaling=start)"
   ]
  },
  {
   "cell_type": "code",
   "execution_count": null,
   "metadata": {
    "ExecuteTime": {
     "end_time": "2018-10-18T00:08:45.136599Z",
     "start_time": "2018-10-18T00:07:49.890Z"
    }
   },
   "outputs": [],
   "source": [
    "pm.LKJCorr?"
   ]
  },
  {
   "cell_type": "code",
   "execution_count": null,
   "metadata": {},
   "outputs": [],
   "source": []
  }
 ],
 "metadata": {
  "kernelspec": {
   "display_name": "Python 3",
   "language": "python",
   "name": "python3"
  },
  "language_info": {
   "codemirror_mode": {
    "name": "ipython",
    "version": 3
   },
   "file_extension": ".py",
   "mimetype": "text/x-python",
   "name": "python",
   "nbconvert_exporter": "python",
   "pygments_lexer": "ipython3",
   "version": "3.6.5"
  },
  "toc": {
   "base_numbering": 1,
   "nav_menu": {
    "height": "127px",
    "width": "216px"
   },
   "number_sections": true,
   "sideBar": true,
   "skip_h1_title": false,
   "title_cell": "Table of Contents",
   "title_sidebar": "Contents",
   "toc_cell": false,
   "toc_position": {},
   "toc_section_display": true,
   "toc_window_display": false
  }
 },
 "nbformat": 4,
 "nbformat_minor": 2
}
